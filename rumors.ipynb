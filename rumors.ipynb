{
 "cells": [
  {
   "cell_type": "code",
   "execution_count": 1196,
   "metadata": {},
   "outputs": [],
   "source": [
    "import numpy as np\n",
    "import pandas as pd\n",
    "import matplotlib.pyplot as plt\n",
    "import git, os, requests, json\n",
    "from sklearn.preprocessing import RobustScaler\n",
    "from sklearn.decomposition import PCA\n",
    "from sklearn.cluster import k_means\n",
    "from scipy.optimize import curve_fit\n",
    "from scipy.special import factorial"
   ]
  },
  {
   "cell_type": "markdown",
   "metadata": {},
   "source": [
    "# Loading data, creation of basic features"
   ]
  },
  {
   "cell_type": "code",
   "execution_count": 1322,
   "metadata": {},
   "outputs": [],
   "source": [
    "years = [2017, 2018, 2019, 2020]\n",
    "raw_data_allyears = []\n",
    "people_allyears = []\n",
    "for year in years:\n",
    "    current_raw_data = pd.read_csv('rumors/data/rm'+str(year)+'.csv',sep=',',encoding='latin')\n",
    "    raw_data_allyears.append(current_raw_data)\n",
    "    people_allyears.append(current_raw_data.sort_values(['Inspire link'])['Inspire link'].unique())"
   ]
  },
  {
   "cell_type": "code",
   "execution_count": 81,
   "metadata": {},
   "outputs": [],
   "source": [
    "statuses = np.copy(raw_data['Status'].unique())\n",
    "statuses_clean = []"
   ]
  },
  {
   "cell_type": "code",
   "execution_count": 82,
   "metadata": {},
   "outputs": [],
   "source": [
    "for status in statuses:\n",
    "    if status == 'Offered': statuses_clean.append('Offered')\n",
    "    elif status == 'Accepted': statuses_clean.append('Accepted')\n",
    "    elif status == 'Declined': statuses_clean.append('Declined')\n",
    "    elif status.find('Offered')>0: statuses_clean.append('Offered, Special')\n",
    "    elif status.find('Accepted')>0: statuses_clean.append('Accepted, Special')\n",
    "    elif status.find('Declined')>0: statuses_clean.append('Declined, Special') \n",
    "    else: statuses_clean.append('Unreadable')"
   ]
  },
  {
   "cell_type": "code",
   "execution_count": 83,
   "metadata": {},
   "outputs": [],
   "source": [
    "status_dict=dict(zip(statuses,statuses_clean))"
   ]
  },
  {
   "cell_type": "code",
   "execution_count": 484,
   "metadata": {},
   "outputs": [
    {
     "data": {
      "text/plain": [
       "2"
      ]
     },
     "execution_count": 484,
     "metadata": {},
     "output_type": "execute_result"
    }
   ],
   "source": [
    "len(raw_data[raw_data['Inspire link']==people[0]]['Institution'].unique())"
   ]
  },
  {
   "cell_type": "code",
   "execution_count": 88,
   "metadata": {},
   "outputs": [],
   "source": [
    "number_of_offers = [len(raw_data[raw_data['Inspire link']==person]['Institution'].unique()) for person in people]"
   ]
  },
  {
   "cell_type": "code",
   "execution_count": 290,
   "metadata": {},
   "outputs": [],
   "source": [
    "data = pd.DataFrame(people,columns=['Person'])"
   ]
  },
  {
   "cell_type": "code",
   "execution_count": 799,
   "metadata": {},
   "outputs": [],
   "source": [
    "inspire_data = []\n",
    "for person in people:\n",
    "    response = requests.get(f\"http://old.inspirehep.net/search?p=ea:{person}&rg=75&of=recjson&ot=recid,creation_date,number_of_authors,number_of_citations,authors\")\n",
    "    inspire_data.append(json.loads(response.text))"
   ]
  },
  {
   "cell_type": "code",
   "execution_count": 800,
   "metadata": {},
   "outputs": [],
   "source": [
    "paper_series = pd.Series(dict(zip(people,inspire_data)))"
   ]
  },
  {
   "cell_type": "code",
   "execution_count": 983,
   "metadata": {},
   "outputs": [],
   "source": [
    "def analyze(person):\n",
    "    return_dict = {}\n",
    "    frame_incl_recent = pd.DataFrame(paper_series[person],columns=['creation_date','number_of_authors','number_of_citations'])\n",
    "    frame = frame_incl_recent[pd.to_datetime(frame_incl_recent['creation_date']) < pd.to_datetime('01/01/2020')]\n",
    "    \n",
    "    paper_dates = np.array([pd.to_datetime(paper['creation_date']) for paper in paper_series[person]])\n",
    "    \n",
    "    author_lists = [paper['authors'] for paper in paper_series[person]]\n",
    "    affiliations = []\n",
    "    \n",
    "    for author_list in author_lists:\n",
    "\n",
    "        author_frame = pd.DataFrame(author_list)\n",
    "        try: \n",
    "            affiliation = author_frame[author_frame['full_name'].str.contains(person.split('.')[-2])]['affiliation'].values\n",
    "            if type(affiliation) == str:\n",
    "                affiliations.append(affiliation.lower().strip())\n",
    "            else:\n",
    "                for aff in affiliation: affiliations.append(aff.lower().replace('(main)','').strip())\n",
    "        except: continue \n",
    "\n",
    "            \n",
    "    #affiliations = np.array(affiliations).flatten()\n",
    "    \n",
    "    return_dict['papers_total'] = len(frame)\n",
    "    return_dict['citations_total'] = frame['number_of_citations'].sum()\n",
    "    return_dict['citations_median'] = frame['number_of_citations'].median()\n",
    "    return_dict['citations_max'] = frame['number_of_citations'].max()\n",
    "    return_dict['collaboration'] = frame['number_of_authors'].max()>15\n",
    "    return_dict['offers'] = len(raw_data[raw_data['Inspire link']==person]['Institution'].unique())\n",
    "    return_dict['citations_per_paper'] = frame['number_of_citations'].mean()\n",
    "    return_dict['papers_last_year'] = len(frame[pd.to_datetime(frame['creation_date']) > pd.to_datetime('01/01/2019')])\n",
    "    return_dict['papers_three_years'] = len(frame[pd.to_datetime(frame['creation_date']) > pd.to_datetime('01/01/2016')])\n",
    "    return_dict['affiliations'] = np.unique(np.array(affiliations))\n",
    "    return_dict['affiliations_total'] = len(np.unique(affiliations))\n",
    "    \n",
    "    if len(paper_dates)>1:\n",
    "        return_dict['time_since_paper2'] = (pd.to_datetime('01/01/2020')-np.sort(paper_dates)[1]).days/365.\n",
    "        return_dict['time_since_paper1'] = (pd.to_datetime('01/01/2020')-np.sort(paper_dates)[0]).days/365.\n",
    "    else:\n",
    "        return_dict['time_since_paper2'] = 0.\n",
    "        return_dict['time_since_paper1'] = 0.\n",
    "    return return_dict"
   ]
  },
  {
   "cell_type": "code",
   "execution_count": 984,
   "metadata": {},
   "outputs": [
    {
     "name": "stdout",
     "output_type": "stream",
     "text": [
      "Number of entries with a NAN: 1. Drop? y/n >y\n"
     ]
    }
   ],
   "source": [
    "analyzed_data = pd.DataFrame([analyze(person) for person in people],people)\n",
    "if input(f'Number of entries with a NAN: {len(analyzed_data)-len(analyzed_data.dropna())}. Drop? y/n >')=='y':\n",
    "    analyzed_data = analyzed_data.dropna()"
   ]
  },
  {
   "cell_type": "markdown",
   "metadata": {},
   "source": [
    "# Visualization of available data"
   ]
  },
  {
   "cell_type": "code",
   "execution_count": 1013,
   "metadata": {},
   "outputs": [
    {
     "data": {
      "text/html": [
       "<div>\n",
       "<style scoped>\n",
       "    .dataframe tbody tr th:only-of-type {\n",
       "        vertical-align: middle;\n",
       "    }\n",
       "\n",
       "    .dataframe tbody tr th {\n",
       "        vertical-align: top;\n",
       "    }\n",
       "\n",
       "    .dataframe thead th {\n",
       "        text-align: right;\n",
       "    }\n",
       "</style>\n",
       "<table border=\"1\" class=\"dataframe\">\n",
       "  <thead>\n",
       "    <tr style=\"text-align: right;\">\n",
       "      <th></th>\n",
       "      <th>affiliations</th>\n",
       "      <th>affiliations_total</th>\n",
       "      <th>citations_max</th>\n",
       "      <th>citations_median</th>\n",
       "      <th>citations_per_paper</th>\n",
       "      <th>citations_total</th>\n",
       "      <th>collaboration</th>\n",
       "      <th>offers</th>\n",
       "      <th>papers_last_year</th>\n",
       "      <th>papers_three_years</th>\n",
       "      <th>papers_total</th>\n",
       "      <th>time_since_paper1</th>\n",
       "      <th>time_since_paper2</th>\n",
       "    </tr>\n",
       "  </thead>\n",
       "  <tbody>\n",
       "    <tr>\n",
       "      <th>A.Aboubrahim.1</th>\n",
       "      <td>[beirut arab u., northeastern u.]</td>\n",
       "      <td>2</td>\n",
       "      <td>163.0</td>\n",
       "      <td>11.0</td>\n",
       "      <td>23.411765</td>\n",
       "      <td>398</td>\n",
       "      <td>True</td>\n",
       "      <td>2</td>\n",
       "      <td>5</td>\n",
       "      <td>12</td>\n",
       "      <td>17</td>\n",
       "      <td>6.558904</td>\n",
       "      <td>6.060274</td>\n",
       "    </tr>\n",
       "    <tr>\n",
       "      <th>A.Banerjee.6</th>\n",
       "      <td>[saha inst.]</td>\n",
       "      <td>1</td>\n",
       "      <td>17.0</td>\n",
       "      <td>6.0</td>\n",
       "      <td>8.800000</td>\n",
       "      <td>44</td>\n",
       "      <td>False</td>\n",
       "      <td>1</td>\n",
       "      <td>2</td>\n",
       "      <td>5</td>\n",
       "      <td>5</td>\n",
       "      <td>2.772603</td>\n",
       "      <td>2.027397</td>\n",
       "    </tr>\n",
       "    <tr>\n",
       "      <th>A.Bhatta.1</th>\n",
       "      <td>[bangalore, indian inst. sci., imsc, chennai]</td>\n",
       "      <td>2</td>\n",
       "      <td>38.0</td>\n",
       "      <td>1.5</td>\n",
       "      <td>9.166667</td>\n",
       "      <td>55</td>\n",
       "      <td>False</td>\n",
       "      <td>1</td>\n",
       "      <td>3</td>\n",
       "      <td>6</td>\n",
       "      <td>6</td>\n",
       "      <td>3.890411</td>\n",
       "      <td>3.205479</td>\n",
       "    </tr>\n",
       "    <tr>\n",
       "      <th>A.Biswas.2</th>\n",
       "      <td>[harish-chandra res. inst., iacs, kolkata, ind...</td>\n",
       "      <td>4</td>\n",
       "      <td>55.0</td>\n",
       "      <td>12.0</td>\n",
       "      <td>17.080000</td>\n",
       "      <td>427</td>\n",
       "      <td>False</td>\n",
       "      <td>1</td>\n",
       "      <td>3</td>\n",
       "      <td>19</td>\n",
       "      <td>25</td>\n",
       "      <td>8.882192</td>\n",
       "      <td>6.961644</td>\n",
       "    </tr>\n",
       "    <tr>\n",
       "      <th>A.Carosso.1</th>\n",
       "      <td>[colorado u.]</td>\n",
       "      <td>1</td>\n",
       "      <td>16.0</td>\n",
       "      <td>2.0</td>\n",
       "      <td>4.600000</td>\n",
       "      <td>23</td>\n",
       "      <td>False</td>\n",
       "      <td>1</td>\n",
       "      <td>2</td>\n",
       "      <td>5</td>\n",
       "      <td>5</td>\n",
       "      <td>1.975342</td>\n",
       "      <td>1.569863</td>\n",
       "    </tr>\n",
       "  </tbody>\n",
       "</table>\n",
       "</div>"
      ],
      "text/plain": [
       "                                                     affiliations  \\\n",
       "A.Aboubrahim.1                  [beirut arab u., northeastern u.]   \n",
       "A.Banerjee.6                                         [saha inst.]   \n",
       "A.Bhatta.1          [bangalore, indian inst. sci., imsc, chennai]   \n",
       "A.Biswas.2      [harish-chandra res. inst., iacs, kolkata, ind...   \n",
       "A.Carosso.1                                         [colorado u.]   \n",
       "\n",
       "                affiliations_total  citations_max  citations_median  \\\n",
       "A.Aboubrahim.1                   2          163.0              11.0   \n",
       "A.Banerjee.6                     1           17.0               6.0   \n",
       "A.Bhatta.1                       2           38.0               1.5   \n",
       "A.Biswas.2                       4           55.0              12.0   \n",
       "A.Carosso.1                      1           16.0               2.0   \n",
       "\n",
       "                citations_per_paper  citations_total  collaboration  offers  \\\n",
       "A.Aboubrahim.1            23.411765              398           True       2   \n",
       "A.Banerjee.6               8.800000               44          False       1   \n",
       "A.Bhatta.1                 9.166667               55          False       1   \n",
       "A.Biswas.2                17.080000              427          False       1   \n",
       "A.Carosso.1                4.600000               23          False       1   \n",
       "\n",
       "                papers_last_year  papers_three_years  papers_total  \\\n",
       "A.Aboubrahim.1                 5                  12            17   \n",
       "A.Banerjee.6                   2                   5             5   \n",
       "A.Bhatta.1                     3                   6             6   \n",
       "A.Biswas.2                     3                  19            25   \n",
       "A.Carosso.1                    2                   5             5   \n",
       "\n",
       "                time_since_paper1  time_since_paper2  \n",
       "A.Aboubrahim.1           6.558904           6.060274  \n",
       "A.Banerjee.6             2.772603           2.027397  \n",
       "A.Bhatta.1               3.890411           3.205479  \n",
       "A.Biswas.2               8.882192           6.961644  \n",
       "A.Carosso.1              1.975342           1.569863  "
      ]
     },
     "execution_count": 1013,
     "metadata": {},
     "output_type": "execute_result"
    }
   ],
   "source": [
    "analyzed_data.head()"
   ]
  },
  {
   "cell_type": "markdown",
   "metadata": {},
   "source": [
    "## Role of collaboration ?"
   ]
  },
  {
   "cell_type": "code",
   "execution_count": 1250,
   "metadata": {},
   "outputs": [
    {
     "data": {
      "text/plain": [
       "0.2260536398467433"
      ]
     },
     "execution_count": 1250,
     "metadata": {},
     "output_type": "execute_result"
    }
   ],
   "source": [
    "len(analyzed_data[analyzed_data['collaboration']==True])/len(analyzed_data)"
   ]
  },
  {
   "cell_type": "code",
   "execution_count": 1285,
   "metadata": {},
   "outputs": [],
   "source": [
    "def comparison_hist(feature):\n",
    "    analyzed_data[analyzed_data['collaboration']==True][feature].hist(density=True, color='blue', alpha=0.5, label='Collab.')\n",
    "    analyzed_data[analyzed_data['collaboration']==False][feature].hist(alpha=0.5, density=True, color='red', label='No collab')\n",
    "    plt.axvline(analyzed_data[analyzed_data['collaboration']==True][feature].median(), color='blue',lw=2)\n",
    "    plt.axvline(analyzed_data[analyzed_data['collaboration']==False][feature].median(), color='red',lw=2)\n",
    "    plt.legend()"
   ]
  },
  {
   "cell_type": "code",
   "execution_count": 1286,
   "metadata": {},
   "outputs": [
    {
     "data": {
      "image/png": "[encoded data removed]",
      "text/plain": [
       "<Figure size 432x288 with 1 Axes>"
      ]
     },
     "metadata": {
      "needs_background": "light"
     },
     "output_type": "display_data"
    }
   ],
   "source": [
    "comparison_hist('offers')\n",
    "plt.title('Number of offers');"
   ]
  },
  {
   "cell_type": "code",
   "execution_count": 1259,
   "metadata": {},
   "outputs": [
    {
     "data": {
      "text/plain": [
       "<matplotlib.lines.Line2D at 0x7f35eedceb50>"
      ]
     },
     "execution_count": 1259,
     "metadata": {},
     "output_type": "execute_result"
    },
    {
     "data": {
      "image/png": "[encoded data removed]",
      "text/plain": [
       "<Figure size 432x288 with 1 Axes>"
      ]
     },
     "metadata": {
      "needs_background": "light"
     },
     "output_type": "display_data"
    }
   ],
   "source": [
    "analyzed_data[analyzed_data['collaboration']==True]['citations_per_paper'].hist(density=True)\n",
    "analyzed_data[analyzed_data['collaboration']==False]['citations_per_paper'].hist(alpha=0.5, density=True)\n",
    "plt.axvline(75)"
   ]
  },
  {
   "cell_type": "code",
   "execution_count": 1024,
   "metadata": {},
   "outputs": [],
   "source": [
    "X=(analyzed_data[analyzed_data['collaboration']==False]).drop(['collaboration','offers','affiliations'],axis=1)"
   ]
  },
  {
   "cell_type": "code",
   "execution_count": null,
   "metadata": {},
   "outputs": [],
   "source": []
  },
  {
   "cell_type": "code",
   "execution_count": 1027,
   "metadata": {},
   "outputs": [],
   "source": [
    "Y=analyzed_data[analyzed_data['collaboration']==False]['offers']"
   ]
  },
  {
   "cell_type": "code",
   "execution_count": 1043,
   "metadata": {},
   "outputs": [
    {
     "data": {
      "text/html": [
       "<div>\n",
       "<style scoped>\n",
       "    .dataframe tbody tr th:only-of-type {\n",
       "        vertical-align: middle;\n",
       "    }\n",
       "\n",
       "    .dataframe tbody tr th {\n",
       "        vertical-align: top;\n",
       "    }\n",
       "\n",
       "    .dataframe thead th {\n",
       "        text-align: right;\n",
       "    }\n",
       "</style>\n",
       "<table border=\"1\" class=\"dataframe\">\n",
       "  <thead>\n",
       "    <tr style=\"text-align: right;\">\n",
       "      <th></th>\n",
       "      <th>affiliations_total</th>\n",
       "      <th>citations_max</th>\n",
       "      <th>citations_median</th>\n",
       "      <th>citations_per_paper</th>\n",
       "      <th>citations_total</th>\n",
       "      <th>papers_last_year</th>\n",
       "      <th>papers_three_years</th>\n",
       "      <th>papers_total</th>\n",
       "      <th>time_since_paper1</th>\n",
       "      <th>time_since_paper2</th>\n",
       "    </tr>\n",
       "  </thead>\n",
       "  <tbody>\n",
       "    <tr>\n",
       "      <th>A.Banerjee.6</th>\n",
       "      <td>1</td>\n",
       "      <td>17.0</td>\n",
       "      <td>6.0</td>\n",
       "      <td>8.800000</td>\n",
       "      <td>44</td>\n",
       "      <td>2</td>\n",
       "      <td>5</td>\n",
       "      <td>5</td>\n",
       "      <td>2.772603</td>\n",
       "      <td>2.027397</td>\n",
       "    </tr>\n",
       "    <tr>\n",
       "      <th>A.Bhatta.1</th>\n",
       "      <td>2</td>\n",
       "      <td>38.0</td>\n",
       "      <td>1.5</td>\n",
       "      <td>9.166667</td>\n",
       "      <td>55</td>\n",
       "      <td>3</td>\n",
       "      <td>6</td>\n",
       "      <td>6</td>\n",
       "      <td>3.890411</td>\n",
       "      <td>3.205479</td>\n",
       "    </tr>\n",
       "    <tr>\n",
       "      <th>A.Biswas.2</th>\n",
       "      <td>4</td>\n",
       "      <td>55.0</td>\n",
       "      <td>12.0</td>\n",
       "      <td>17.080000</td>\n",
       "      <td>427</td>\n",
       "      <td>3</td>\n",
       "      <td>19</td>\n",
       "      <td>25</td>\n",
       "      <td>8.882192</td>\n",
       "      <td>6.961644</td>\n",
       "    </tr>\n",
       "    <tr>\n",
       "      <th>A.Carosso.1</th>\n",
       "      <td>1</td>\n",
       "      <td>16.0</td>\n",
       "      <td>2.0</td>\n",
       "      <td>4.600000</td>\n",
       "      <td>23</td>\n",
       "      <td>2</td>\n",
       "      <td>5</td>\n",
       "      <td>5</td>\n",
       "      <td>1.975342</td>\n",
       "      <td>1.569863</td>\n",
       "    </tr>\n",
       "    <tr>\n",
       "      <th>A.Chakraborty.8</th>\n",
       "      <td>2</td>\n",
       "      <td>10.0</td>\n",
       "      <td>5.0</td>\n",
       "      <td>5.142857</td>\n",
       "      <td>36</td>\n",
       "      <td>5</td>\n",
       "      <td>7</td>\n",
       "      <td>7</td>\n",
       "      <td>1.202740</td>\n",
       "      <td>1.150685</td>\n",
       "    </tr>\n",
       "  </tbody>\n",
       "</table>\n",
       "</div>"
      ],
      "text/plain": [
       "                 affiliations_total  citations_max  citations_median  \\\n",
       "A.Banerjee.6                      1           17.0               6.0   \n",
       "A.Bhatta.1                        2           38.0               1.5   \n",
       "A.Biswas.2                        4           55.0              12.0   \n",
       "A.Carosso.1                       1           16.0               2.0   \n",
       "A.Chakraborty.8                   2           10.0               5.0   \n",
       "\n",
       "                 citations_per_paper  citations_total  papers_last_year  \\\n",
       "A.Banerjee.6                8.800000               44                 2   \n",
       "A.Bhatta.1                  9.166667               55                 3   \n",
       "A.Biswas.2                 17.080000              427                 3   \n",
       "A.Carosso.1                 4.600000               23                 2   \n",
       "A.Chakraborty.8             5.142857               36                 5   \n",
       "\n",
       "                 papers_three_years  papers_total  time_since_paper1  \\\n",
       "A.Banerjee.6                      5             5           2.772603   \n",
       "A.Bhatta.1                        6             6           3.890411   \n",
       "A.Biswas.2                       19            25           8.882192   \n",
       "A.Carosso.1                       5             5           1.975342   \n",
       "A.Chakraborty.8                   7             7           1.202740   \n",
       "\n",
       "                 time_since_paper2  \n",
       "A.Banerjee.6              2.027397  \n",
       "A.Bhatta.1                3.205479  \n",
       "A.Biswas.2                6.961644  \n",
       "A.Carosso.1               1.569863  \n",
       "A.Chakraborty.8           1.150685  "
      ]
     },
     "execution_count": 1043,
     "metadata": {},
     "output_type": "execute_result"
    }
   ],
   "source": [
    "X.head()"
   ]
  },
  {
   "cell_type": "code",
   "execution_count": 1048,
   "metadata": {},
   "outputs": [],
   "source": [
    "scaler = RobustScaler()"
   ]
  },
  {
   "cell_type": "code",
   "execution_count": 1082,
   "metadata": {},
   "outputs": [],
   "source": [
    "cross_idx = np.random.choice(len(X),20,replace=False)\n",
    "train_idx = list(set(np.arange(len(X)))-set(cross_idx))"
   ]
  },
  {
   "cell_type": "code",
   "execution_count": 1106,
   "metadata": {},
   "outputs": [],
   "source": [
    "scaler.fit(X.iloc[train_idx])\n",
    "X_scaled = pd.DataFrame(scaler.transform(X.iloc[train_idx]), columns = X.columns)\n",
    "Y_train = Y.iloc[train_idx]"
   ]
  },
  {
   "cell_type": "code",
   "execution_count": 1096,
   "metadata": {},
   "outputs": [
    {
     "data": {
      "text/html": [
       "<div>\n",
       "<style scoped>\n",
       "    .dataframe tbody tr th:only-of-type {\n",
       "        vertical-align: middle;\n",
       "    }\n",
       "\n",
       "    .dataframe tbody tr th {\n",
       "        vertical-align: top;\n",
       "    }\n",
       "\n",
       "    .dataframe thead th {\n",
       "        text-align: right;\n",
       "    }\n",
       "</style>\n",
       "<table border=\"1\" class=\"dataframe\">\n",
       "  <thead>\n",
       "    <tr style=\"text-align: right;\">\n",
       "      <th></th>\n",
       "      <th>affiliations_total</th>\n",
       "      <th>citations_max</th>\n",
       "      <th>citations_median</th>\n",
       "      <th>citations_per_paper</th>\n",
       "      <th>citations_total</th>\n",
       "      <th>papers_last_year</th>\n",
       "      <th>papers_three_years</th>\n",
       "      <th>papers_total</th>\n",
       "      <th>time_since_paper1</th>\n",
       "      <th>time_since_paper2</th>\n",
       "    </tr>\n",
       "  </thead>\n",
       "  <tbody>\n",
       "    <tr>\n",
       "      <th>0</th>\n",
       "      <td>-0.5</td>\n",
       "      <td>-0.430769</td>\n",
       "      <td>-0.367816</td>\n",
       "      <td>-0.467589</td>\n",
       "      <td>-0.251707</td>\n",
       "      <td>0.0</td>\n",
       "      <td>-0.333333</td>\n",
       "      <td>-0.333333</td>\n",
       "      <td>-0.466896</td>\n",
       "      <td>-0.428358</td>\n",
       "    </tr>\n",
       "    <tr>\n",
       "      <th>1</th>\n",
       "      <td>0.0</td>\n",
       "      <td>0.000000</td>\n",
       "      <td>-0.781609</td>\n",
       "      <td>-0.436934</td>\n",
       "      <td>-0.208780</td>\n",
       "      <td>0.5</td>\n",
       "      <td>-0.166667</td>\n",
       "      <td>-0.222222</td>\n",
       "      <td>-0.136465</td>\n",
       "      <td>-0.061072</td>\n",
       "    </tr>\n",
       "    <tr>\n",
       "      <th>2</th>\n",
       "      <td>1.0</td>\n",
       "      <td>0.348718</td>\n",
       "      <td>0.183908</td>\n",
       "      <td>0.224658</td>\n",
       "      <td>1.242927</td>\n",
       "      <td>0.5</td>\n",
       "      <td>2.000000</td>\n",
       "      <td>1.888889</td>\n",
       "      <td>1.339137</td>\n",
       "      <td>1.109972</td>\n",
       "    </tr>\n",
       "    <tr>\n",
       "      <th>3</th>\n",
       "      <td>-0.5</td>\n",
       "      <td>-0.451282</td>\n",
       "      <td>-0.735632</td>\n",
       "      <td>-0.818729</td>\n",
       "      <td>-0.333659</td>\n",
       "      <td>0.0</td>\n",
       "      <td>-0.333333</td>\n",
       "      <td>-0.333333</td>\n",
       "      <td>-0.702571</td>\n",
       "      <td>-0.571001</td>\n",
       "    </tr>\n",
       "    <tr>\n",
       "      <th>4</th>\n",
       "      <td>0.0</td>\n",
       "      <td>-0.574359</td>\n",
       "      <td>-0.459770</td>\n",
       "      <td>-0.773344</td>\n",
       "      <td>-0.282927</td>\n",
       "      <td>1.5</td>\n",
       "      <td>0.000000</td>\n",
       "      <td>-0.111111</td>\n",
       "      <td>-0.930958</td>\n",
       "      <td>-0.701687</td>\n",
       "    </tr>\n",
       "  </tbody>\n",
       "</table>\n",
       "</div>"
      ],
      "text/plain": [
       "   affiliations_total  citations_max  citations_median  citations_per_paper  \\\n",
       "0                -0.5      -0.430769         -0.367816            -0.467589   \n",
       "1                 0.0       0.000000         -0.781609            -0.436934   \n",
       "2                 1.0       0.348718          0.183908             0.224658   \n",
       "3                -0.5      -0.451282         -0.735632            -0.818729   \n",
       "4                 0.0      -0.574359         -0.459770            -0.773344   \n",
       "\n",
       "   citations_total  papers_last_year  papers_three_years  papers_total  \\\n",
       "0        -0.251707               0.0           -0.333333     -0.333333   \n",
       "1        -0.208780               0.5           -0.166667     -0.222222   \n",
       "2         1.242927               0.5            2.000000      1.888889   \n",
       "3        -0.333659               0.0           -0.333333     -0.333333   \n",
       "4        -0.282927               1.5            0.000000     -0.111111   \n",
       "\n",
       "   time_since_paper1  time_since_paper2  \n",
       "0          -0.466896          -0.428358  \n",
       "1          -0.136465          -0.061072  \n",
       "2           1.339137           1.109972  \n",
       "3          -0.702571          -0.571001  \n",
       "4          -0.930958          -0.701687  "
      ]
     },
     "execution_count": 1096,
     "metadata": {},
     "output_type": "execute_result"
    }
   ],
   "source": [
    "X_scaled.head()"
   ]
  },
  {
   "cell_type": "code",
   "execution_count": 1146,
   "metadata": {},
   "outputs": [],
   "source": [
    "pca_analyzer=PCA(n_components=2)"
   ]
  },
  {
   "cell_type": "code",
   "execution_count": 1147,
   "metadata": {},
   "outputs": [
    {
     "data": {
      "text/plain": [
       "PCA(copy=True, iterated_power='auto', n_components=2, random_state=None,\n",
       "    svd_solver='auto', tol=0.0, whiten=False)"
      ]
     },
     "execution_count": 1147,
     "metadata": {},
     "output_type": "execute_result"
    }
   ],
   "source": [
    "pca_analyzer.fit(X_scaled)"
   ]
  },
  {
   "cell_type": "code",
   "execution_count": 1149,
   "metadata": {},
   "outputs": [
    {
     "data": {
      "text/plain": [
       "Text(0.5,1,'Variance explained per component of PCA')"
      ]
     },
     "execution_count": 1149,
     "metadata": {},
     "output_type": "execute_result"
    },
    {
     "data": {
      "image/png": "[encoded data removed]",
      "text/plain": [
       "<Figure size 432x288 with 1 Axes>"
      ]
     },
     "metadata": {
      "needs_background": "light"
     },
     "output_type": "display_data"
    }
   ],
   "source": [
    "plt.bar(np.arange(1,3),pca_analyzer.explained_variance_ratio_)\n",
    "plt.title('Variance explained per component of PCA')"
   ]
  },
  {
   "cell_type": "code",
   "execution_count": null,
   "metadata": {},
   "outputs": [],
   "source": []
  }
 ],
 "metadata": {
  "kernelspec": {
   "display_name": "Python 3",
   "language": "python",
   "name": "python3"
  },
  "language_info": {
   "codemirror_mode": {
    "name": "ipython",
    "version": 3
   },
   "file_extension": ".py",
   "mimetype": "text/x-python",
   "name": "python",
   "nbconvert_exporter": "python",
   "pygments_lexer": "ipython3",
   "version": "3.7.7"
  }
 },
 "nbformat": 4,
 "nbformat_minor": 2
}
