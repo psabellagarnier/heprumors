{
 "cells": [
  {
   "cell_type": "code",
   "execution_count": 1396,
   "metadata": {},
   "outputs": [],
   "source": [
    "import numpy as np\n",
    "import pandas as pd\n",
    "import matplotlib.pyplot as plt\n",
    "import git, os, requests, json, pickle\n",
    "from sklearn.preprocessing import RobustScaler\n",
    "from sklearn.decomposition import PCA\n",
    "from sklearn.cluster import k_means\n",
    "from scipy.optimize import curve_fit\n",
    "from scipy.special import factorial"
   ]
  },
  {
   "cell_type": "markdown",
   "metadata": {},
   "source": [
    "# Loading data, creation of basic features"
   ]
  },
  {
   "cell_type": "code",
   "execution_count": 1334,
   "metadata": {},
   "outputs": [],
   "source": [
    "years = [2017, 2018, 2019, 2020]\n",
    "raw_data = {}\n",
    "people = {}\n",
    "for year in years:\n",
    "    current_raw_data = pd.read_csv('rumors/data/rm'+str(year)+'.csv',sep=',',encoding='latin')\n",
    "    raw_data[year] = current_raw_data\n",
    "    people[year] = current_raw_data.sort_values(['Inspire link'])['Inspire link'].unique()"
   ]
  },
  {
   "cell_type": "markdown",
   "metadata": {},
   "source": [
    "Dictionary to map special status (eg \"Fancy fellowship, Offered/Accepted/Declined\") into \"Offered/Accepted/Declined, Special\""
   ]
  },
  {
   "cell_type": "code",
   "execution_count": 1337,
   "metadata": {},
   "outputs": [],
   "source": [
    "status_dict = {}\n",
    "for year in years:\n",
    "    statuses = np.copy(raw_data[year]['Status'].unique())\n",
    "    statuses_clean = []\n",
    "    \n",
    "    for status in statuses:\n",
    "        if status == 'Offered': statuses_clean.append('Offered')\n",
    "        elif status == 'Accepted': statuses_clean.append('Accepted')\n",
    "        elif status == 'Declined': statuses_clean.append('Declined')\n",
    "        elif status.find('Offered')>0: statuses_clean.append('Offered, Special')\n",
    "        elif status.find('Accepted')>0: statuses_clean.append('Accepted, Special')\n",
    "        elif status.find('Declined')>0: statuses_clean.append('Declined, Special') \n",
    "        else: statuses_clean.append('Unreadable')\n",
    "            \n",
    "    status_dict[year]=dict(zip(statuses,statuses_clean))\n",
    "    "
   ]
  },
  {
   "cell_type": "code",
   "execution_count": 1343,
   "metadata": {},
   "outputs": [],
   "source": [
    "number_of_offers = {}\n",
    "data = {}\n",
    "for year in years:\n",
    "    number_of_offers[year] = [len(raw_data[year][raw_data[year]['Inspire link']==person]['Institution'].unique()) for person in people[year]]\n",
    "    data[year] = pd.DataFrame(people[year],columns=['Person'])"
   ]
  },
  {
   "cell_type": "code",
   "execution_count": 1383,
   "metadata": {},
   "outputs": [
    {
     "name": "stdout",
     "output_type": "stream",
     "text": [
      "2017\n",
      "2018\n",
      "2019\n",
      "2020\n"
     ]
    }
   ],
   "source": [
    "inspire_data = {}\n",
    "for year in years:\n",
    "    inspire_data[year] = []\n",
    "    for person in people[year]:\n",
    "        response = requests.get(f\"http://old.inspirehep.net/search?p=ea:{person}+and+d+<+{year}+&rg=75&of=recjson&ot=recid,creation_date,number_of_authors,number_of_citations,authors\")\n",
    "        inspire_data[year].append(json.loads(response.text))\n",
    "    print(year)"
   ]
  },
  {
   "cell_type": "code",
   "execution_count": 1401,
   "metadata": {},
   "outputs": [],
   "source": [
    "paper_series = {}\n",
    "for year in years:\n",
    "    paper_series[year] = pd.Series(dict(zip(people[year],inspire_data[year])))"
   ]
  },
  {
   "cell_type": "code",
   "execution_count": 1485,
   "metadata": {},
   "outputs": [],
   "source": [
    "def get_citations(paper, year):\n",
    "    rec = paper['recid']\n",
    "    response = requests.get(f\"http://old.inspirehep.net/search?p=refersto:recid:{rec}+and+d+<{year}+&rg=250&of=recjson&ot=recid\")\n",
    "    return len(json.loads(response.text))"
   ]
  },
  {
   "cell_type": "code",
   "execution_count": null,
   "metadata": {},
   "outputs": [],
   "source": []
  },
  {
   "cell_type": "markdown",
   "metadata": {},
   "source": [
    "Save the Inspire data dictionary in a file. Data takes a long time to download, so avoid re-running."
   ]
  },
  {
   "cell_type": "code",
   "execution_count": 1404,
   "metadata": {},
   "outputs": [],
   "source": [
    "for year in years:\n",
    "    paper_series[year].to_pickle('rumors/data/paper_series'+str(year))"
   ]
  },
  {
   "cell_type": "markdown",
   "metadata": {},
   "source": [
    "Load file from above into a dictionary. If needed, load into \"downloaded_data\"."
   ]
  },
  {
   "cell_type": "code",
   "execution_count": 1405,
   "metadata": {},
   "outputs": [],
   "source": [
    "s2018 = pd.read_pickle('rumors/data/paper_series2018')"
   ]
  },
  {
   "cell_type": "markdown",
   "metadata": {},
   "source": [
    "This function creates all features from the downloaded InspireHEP data"
   ]
  },
  {
   "cell_type": "code",
   "execution_count": 1414,
   "metadata": {},
   "outputs": [],
   "source": [
    "def analyze(person, paper_series, year):\n",
    "    return_dict = {}\n",
    "    #frame_incl_recent = pd.DataFrame(paper_series[person],columns=['creation_date','number_of_authors','number_of_citations'])\n",
    "    frame = pd.DataFrame(paper_series,columns=['creation_date','number_of_authors','number_of_citations'])# frame_incl_recent[pd.to_datetime(frame_incl_recent['creation_date']) < pd.to_datetime('01/01/2020')]\n",
    "    \n",
    "    paper_dates = np.array([pd.to_datetime(paper['creation_date']) for paper in paper_series])\n",
    "    \n",
    "    author_lists = [paper['authors'] for paper in paper_series]\n",
    "    affiliations = []\n",
    "    \n",
    "    for author_list in author_lists:\n",
    "\n",
    "        author_frame = pd.DataFrame(author_list)\n",
    "        try: \n",
    "            affiliation = author_frame[author_frame['full_name'].str.contains(person.split('.')[-2])]['affiliation'].values\n",
    "            if type(affiliation) == str:\n",
    "                affiliations.append(affiliation.lower().strip())\n",
    "            else:\n",
    "                for aff in affiliation: affiliations.append(aff.lower().replace('(main)','').strip())\n",
    "        except: continue \n",
    "\n",
    "            \n",
    "    #affiliations = np.array(affiliations).flatten()\n",
    "    \n",
    "    return_dict['papers_total'] = len(frame)\n",
    "    return_dict['citations_total'] = frame['number_of_citations'].sum()\n",
    "    return_dict['citations_median'] = frame['number_of_citations'].median()\n",
    "    return_dict['citations_max'] = frame['number_of_citations'].max()\n",
    "    return_dict['collaboration'] = frame['number_of_authors'].max()>15\n",
    "    return_dict['citations_per_paper'] = frame['number_of_citations'].mean()\n",
    "    return_dict['papers_last_year'] = len(frame[pd.to_datetime(frame['creation_date']) > pd.to_datetime('01/01/2019')])\n",
    "    return_dict['papers_three_years'] = len(frame[pd.to_datetime(frame['creation_date']) > pd.to_datetime('01/01/2016')])\n",
    "    return_dict['affiliations'] = np.unique(np.array(affiliations))\n",
    "    return_dict['affiliations_total'] = len(np.unique(affiliations))\n",
    "    \n",
    "    return_dict['offers'] = len(raw_data[year][raw_data[year]['Inspire link']==person]['Institution'].unique())\n",
    "\n",
    "    \n",
    "    if len(paper_dates)>1:\n",
    "        return_dict['time_since_paper2'] = (pd.to_datetime('01/01/'+str(year))-np.sort(paper_dates)[1]).days/365.\n",
    "        return_dict['time_since_paper1'] = (pd.to_datetime('01/01/'+str(year))-np.sort(paper_dates)[0]).days/365.\n",
    "    else:\n",
    "        return_dict['time_since_paper2'] = 0.\n",
    "        return_dict['time_since_paper1'] = 0.\n",
    "    return return_dict"
   ]
  },
  {
   "cell_type": "code",
   "execution_count": 1494,
   "metadata": {},
   "outputs": [
    {
     "data": {
      "text/plain": [
       "{'papers_total': 3,\n",
       " 'citations_total': 279,\n",
       " 'citations_median': 42.0,\n",
       " 'citations_max': 232,\n",
       " 'collaboration': False,\n",
       " 'citations_per_paper': 93.0,\n",
       " 'papers_last_year': 0,\n",
       " 'papers_three_years': 0,\n",
       " 'affiliations': array(['orsay, lpt'], dtype='<U10'),\n",
       " 'affiliations_total': 1,\n",
       " 'offers': 1,\n",
       " 'time_since_paper2': 1.0602739726027397,\n",
       " 'time_since_paper1': 1.180821917808219}"
      ]
     },
     "execution_count": 1494,
     "metadata": {},
     "output_type": "execute_result"
    }
   ],
   "source": [
    "analyze(people[2017][0], paper_series[2017][people[2017][0]], 2017)"
   ]
  },
  {
   "cell_type": "code",
   "execution_count": 1497,
   "metadata": {},
   "outputs": [
    {
     "name": "stdout",
     "output_type": "stream",
     "text": [
      "Number of entries with a NAN: 14. Drop? y/n >y\n",
      "Number of entries with a NAN: 11. Drop? y/n >y\n",
      "Number of entries with a NAN: 9. Drop? y/n >y\n",
      "Number of entries with a NAN: 3. Drop? y/n >y\n"
     ]
    }
   ],
   "source": [
    "analyzed_data = {}\n",
    "for year in years:\n",
    "    analyzed_data[year] = pd.DataFrame([analyze(person, paper_series[year][person], year) for person in people[year]], people[year])\n",
    "    if input(f'Number of entries with a NAN: {len(analyzed_data[year])-len(analyzed_data[year].dropna())}. Drop? y/n >')=='y':\n",
    "        analyzed_data[year] = analyzed_data[year].dropna()"
   ]
  },
  {
   "cell_type": "markdown",
   "metadata": {},
   "source": [
    "# Visualization of available data"
   ]
  },
  {
   "cell_type": "code",
   "execution_count": 1013,
   "metadata": {},
   "outputs": [
    {
     "data": {
      "text/html": [
       "<div>\n",
       "<style scoped>\n",
       "    .dataframe tbody tr th:only-of-type {\n",
       "        vertical-align: middle;\n",
       "    }\n",
       "\n",
       "    .dataframe tbody tr th {\n",
       "        vertical-align: top;\n",
       "    }\n",
       "\n",
       "    .dataframe thead th {\n",
       "        text-align: right;\n",
       "    }\n",
       "</style>\n",
       "<table border=\"1\" class=\"dataframe\">\n",
       "  <thead>\n",
       "    <tr style=\"text-align: right;\">\n",
       "      <th></th>\n",
       "      <th>affiliations</th>\n",
       "      <th>affiliations_total</th>\n",
       "      <th>citations_max</th>\n",
       "      <th>citations_median</th>\n",
       "      <th>citations_per_paper</th>\n",
       "      <th>citations_total</th>\n",
       "      <th>collaboration</th>\n",
       "      <th>offers</th>\n",
       "      <th>papers_last_year</th>\n",
       "      <th>papers_three_years</th>\n",
       "      <th>papers_total</th>\n",
       "      <th>time_since_paper1</th>\n",
       "      <th>time_since_paper2</th>\n",
       "    </tr>\n",
       "  </thead>\n",
       "  <tbody>\n",
       "    <tr>\n",
       "      <th>A.Aboubrahim.1</th>\n",
       "      <td>[beirut arab u., northeastern u.]</td>\n",
       "      <td>2</td>\n",
       "      <td>163.0</td>\n",
       "      <td>11.0</td>\n",
       "      <td>23.411765</td>\n",
       "      <td>398</td>\n",
       "      <td>True</td>\n",
       "      <td>2</td>\n",
       "      <td>5</td>\n",
       "      <td>12</td>\n",
       "      <td>17</td>\n",
       "      <td>6.558904</td>\n",
       "      <td>6.060274</td>\n",
       "    </tr>\n",
       "    <tr>\n",
       "      <th>A.Banerjee.6</th>\n",
       "      <td>[saha inst.]</td>\n",
       "      <td>1</td>\n",
       "      <td>17.0</td>\n",
       "      <td>6.0</td>\n",
       "      <td>8.800000</td>\n",
       "      <td>44</td>\n",
       "      <td>False</td>\n",
       "      <td>1</td>\n",
       "      <td>2</td>\n",
       "      <td>5</td>\n",
       "      <td>5</td>\n",
       "      <td>2.772603</td>\n",
       "      <td>2.027397</td>\n",
       "    </tr>\n",
       "    <tr>\n",
       "      <th>A.Bhatta.1</th>\n",
       "      <td>[bangalore, indian inst. sci., imsc, chennai]</td>\n",
       "      <td>2</td>\n",
       "      <td>38.0</td>\n",
       "      <td>1.5</td>\n",
       "      <td>9.166667</td>\n",
       "      <td>55</td>\n",
       "      <td>False</td>\n",
       "      <td>1</td>\n",
       "      <td>3</td>\n",
       "      <td>6</td>\n",
       "      <td>6</td>\n",
       "      <td>3.890411</td>\n",
       "      <td>3.205479</td>\n",
       "    </tr>\n",
       "    <tr>\n",
       "      <th>A.Biswas.2</th>\n",
       "      <td>[harish-chandra res. inst., iacs, kolkata, ind...</td>\n",
       "      <td>4</td>\n",
       "      <td>55.0</td>\n",
       "      <td>12.0</td>\n",
       "      <td>17.080000</td>\n",
       "      <td>427</td>\n",
       "      <td>False</td>\n",
       "      <td>1</td>\n",
       "      <td>3</td>\n",
       "      <td>19</td>\n",
       "      <td>25</td>\n",
       "      <td>8.882192</td>\n",
       "      <td>6.961644</td>\n",
       "    </tr>\n",
       "    <tr>\n",
       "      <th>A.Carosso.1</th>\n",
       "      <td>[colorado u.]</td>\n",
       "      <td>1</td>\n",
       "      <td>16.0</td>\n",
       "      <td>2.0</td>\n",
       "      <td>4.600000</td>\n",
       "      <td>23</td>\n",
       "      <td>False</td>\n",
       "      <td>1</td>\n",
       "      <td>2</td>\n",
       "      <td>5</td>\n",
       "      <td>5</td>\n",
       "      <td>1.975342</td>\n",
       "      <td>1.569863</td>\n",
       "    </tr>\n",
       "  </tbody>\n",
       "</table>\n",
       "</div>"
      ],
      "text/plain": [
       "                                                     affiliations  \\\n",
       "A.Aboubrahim.1                  [beirut arab u., northeastern u.]   \n",
       "A.Banerjee.6                                         [saha inst.]   \n",
       "A.Bhatta.1          [bangalore, indian inst. sci., imsc, chennai]   \n",
       "A.Biswas.2      [harish-chandra res. inst., iacs, kolkata, ind...   \n",
       "A.Carosso.1                                         [colorado u.]   \n",
       "\n",
       "                affiliations_total  citations_max  citations_median  \\\n",
       "A.Aboubrahim.1                   2          163.0              11.0   \n",
       "A.Banerjee.6                     1           17.0               6.0   \n",
       "A.Bhatta.1                       2           38.0               1.5   \n",
       "A.Biswas.2                       4           55.0              12.0   \n",
       "A.Carosso.1                      1           16.0               2.0   \n",
       "\n",
       "                citations_per_paper  citations_total  collaboration  offers  \\\n",
       "A.Aboubrahim.1            23.411765              398           True       2   \n",
       "A.Banerjee.6               8.800000               44          False       1   \n",
       "A.Bhatta.1                 9.166667               55          False       1   \n",
       "A.Biswas.2                17.080000              427          False       1   \n",
       "A.Carosso.1                4.600000               23          False       1   \n",
       "\n",
       "                papers_last_year  papers_three_years  papers_total  \\\n",
       "A.Aboubrahim.1                 5                  12            17   \n",
       "A.Banerjee.6                   2                   5             5   \n",
       "A.Bhatta.1                     3                   6             6   \n",
       "A.Biswas.2                     3                  19            25   \n",
       "A.Carosso.1                    2                   5             5   \n",
       "\n",
       "                time_since_paper1  time_since_paper2  \n",
       "A.Aboubrahim.1           6.558904           6.060274  \n",
       "A.Banerjee.6             2.772603           2.027397  \n",
       "A.Bhatta.1               3.890411           3.205479  \n",
       "A.Biswas.2               8.882192           6.961644  \n",
       "A.Carosso.1              1.975342           1.569863  "
      ]
     },
     "execution_count": 1013,
     "metadata": {},
     "output_type": "execute_result"
    }
   ],
   "source": [
    "analyzed_data.head()"
   ]
  },
  {
   "cell_type": "markdown",
   "metadata": {},
   "source": [
    "## Role of collaboration ?"
   ]
  },
  {
   "cell_type": "code",
   "execution_count": 1506,
   "metadata": {},
   "outputs": [
    {
     "data": {
      "text/plain": [
       "0.21235521235521235"
      ]
     },
     "execution_count": 1506,
     "metadata": {},
     "output_type": "execute_result"
    }
   ],
   "source": [
    "analyzed_data[2020]['collaboration'].sum()/len(analyzed_data[2020])"
   ]
  },
  {
   "cell_type": "code",
   "execution_count": 1508,
   "metadata": {},
   "outputs": [],
   "source": [
    "def comparison_hist(feature, year):\n",
    "    analyzed_data[year][analyzed_data[year]['collaboration']==True][feature].hist(density=True, color='blue', alpha=0.5, label='Collab.')\n",
    "    analyzed_data[year][analyzed_data[year]['collaboration']==False][feature].hist(alpha=0.5, density=True, color='red', label='No collab')\n",
    "    plt.axvline(analyzed_data[year][analyzed_data[year]['collaboration']==True][feature].median(), color='blue',lw=2)\n",
    "    plt.axvline(analyzed_data[year][analyzed_data[year]['collaboration']==False][feature].median(), color='red',lw=2)\n",
    "    plt.legend()"
   ]
  },
  {
   "cell_type": "code",
   "execution_count": 1510,
   "metadata": {},
   "outputs": [
    {
     "data": {
      "image/png": "[encoded data removed]",
      "text/plain": [
       "<Figure size 432x288 with 1 Axes>"
      ]
     },
     "metadata": {
      "needs_background": "light"
     },
     "output_type": "display_data"
    }
   ],
   "source": [
    "comparison_hist('offers', 2020)\n",
    "plt.title('Number of offers');"
   ]
  },
  {
   "cell_type": "code",
   "execution_count": null,
   "metadata": {},
   "outputs": [],
   "source": []
  }
 ],
 "metadata": {
  "kernelspec": {
   "display_name": "Python 3",
   "language": "python",
   "name": "python3"
  },
  "language_info": {
   "codemirror_mode": {
    "name": "ipython",
    "version": 3
   },
   "file_extension": ".py",
   "mimetype": "text/x-python",
   "name": "python",
   "nbconvert_exporter": "python",
   "pygments_lexer": "ipython3",
   "version": "3.7.7"
  }
 },
 "nbformat": 4,
 "nbformat_minor": 2
}
