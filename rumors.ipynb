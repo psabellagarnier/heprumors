{
 "cells": [
  {
   "cell_type": "code",
   "execution_count": 284,
   "metadata": {},
   "outputs": [],
   "source": [
    "import numpy as np\n",
    "import pandas as pd\n",
    "import matplotlib.pyplot as plt\n",
    "import git, os, requests, json, pickle, time\n",
    "import db_access\n",
    "from sklearn.preprocessing import RobustScaler\n",
    "from sklearn.decomposition import PCA\n",
    "from sklearn.cluster import k_means\n",
    "from scipy.optimize import curve_fit\n",
    "from scipy.special import factorial\n",
    "from importlib import reload"
   ]
  },
  {
   "cell_type": "markdown",
   "metadata": {},
   "source": [
    "# Loading INSPIRE and Rumor mill data, creation of basic features"
   ]
  },
  {
   "cell_type": "code",
   "execution_count": 1334,
   "metadata": {},
   "outputs": [],
   "source": [
    "years = [2017, 2018, 2019, 2020]\n",
    "raw_data = {}\n",
    "people = {}\n",
    "for year in years:\n",
    "    current_raw_data = pd.read_csv('rumors/data/rm'+str(year)+'.csv',sep=',',encoding='latin')\n",
    "    raw_data[year] = current_raw_data\n",
    "    people[year] = current_raw_data.sort_values(['Inspire link'])['Inspire link'].unique()"
   ]
  },
  {
   "cell_type": "markdown",
   "metadata": {},
   "source": [
    "Dictionary to map special status (eg \"Fancy fellowship, Offered/Accepted/Declined\") into \"Offered/Accepted/Declined, Special\""
   ]
  },
  {
   "cell_type": "code",
   "execution_count": 1337,
   "metadata": {},
   "outputs": [],
   "source": [
    "status_dict = {}\n",
    "for year in years:\n",
    "    statuses = np.copy(raw_data[year]['Status'].unique())\n",
    "    statuses_clean = []\n",
    "    \n",
    "    for status in statuses:\n",
    "        if status == 'Offered': statuses_clean.append('Offered')\n",
    "        elif status == 'Accepted': statuses_clean.append('Accepted')\n",
    "        elif status == 'Declined': statuses_clean.append('Declined')\n",
    "        elif status.find('Offered')>0: statuses_clean.append('Offered, Special')\n",
    "        elif status.find('Accepted')>0: statuses_clean.append('Accepted, Special')\n",
    "        elif status.find('Declined')>0: statuses_clean.append('Declined, Special') \n",
    "        else: statuses_clean.append('Unreadable')\n",
    "            \n",
    "    status_dict[year]=dict(zip(statuses,statuses_clean))\n",
    "    "
   ]
  },
  {
   "cell_type": "code",
   "execution_count": 1343,
   "metadata": {},
   "outputs": [],
   "source": [
    "number_of_offers = {}\n",
    "data = {}\n",
    "for year in years:\n",
    "    number_of_offers[year] = [len(raw_data[year][raw_data[year]['Inspire link']==person]['Institution'].unique()) for person in people[year]]\n",
    "    data[year] = pd.DataFrame(people[year],columns=['Person'])"
   ]
  },
  {
   "cell_type": "code",
   "execution_count": 62,
   "metadata": {
    "scrolled": true
   },
   "outputs": [
    {
     "name": "stdout",
     "output_type": "stream",
     "text": [
      "2017 514.0181758645922\n",
      "2018 338.96896791271865\n",
      "2019 354.9714118987322\n",
      "2020 202.30416318774223\n"
     ]
    }
   ],
   "source": [
    "inspire_data = {}\n",
    "for year in years:\n",
    "    t0 = time.perf_counter() \n",
    "    inspire_data[year] = []\n",
    "    for person in people[year]:\n",
    "        response = requests.get(f\"http://old.inspirehep.net/search?p=ea:{person}+&rg=75&of=recjson&ot=recid,creation_date,number_of_authors,authors\")\n",
    "        inspire_data[year].append(json.loads(response.text))\n",
    "    print(year, time.perf_counter()-t0)"
   ]
  },
  {
   "cell_type": "code",
   "execution_count": 65,
   "metadata": {},
   "outputs": [],
   "source": [
    "paper_series = {}\n",
    "for year in years:\n",
    "    paper_series[year] = pd.Series(dict(zip(people[year],inspire_data[year])))"
   ]
  },
  {
   "cell_type": "markdown",
   "metadata": {},
   "source": [
    "Save the Inspire data dictionary in a file. Data takes a long time to download, so avoid re-running."
   ]
  },
  {
   "cell_type": "code",
   "execution_count": 66,
   "metadata": {},
   "outputs": [],
   "source": [
    "for year in years:\n",
    "    paper_series[year].to_pickle('data/paper_series_2_'+str(year))"
   ]
  },
  {
   "cell_type": "markdown",
   "metadata": {},
   "source": [
    "# Loading previously downloaded data, start here"
   ]
  },
  {
   "cell_type": "code",
   "execution_count": 432,
   "metadata": {},
   "outputs": [],
   "source": [
    "years = [2017, 2018, 2019, 2020]\n",
    "raw_data = {}\n",
    "people = {}\n",
    "paper_series_series = {}\n",
    "for year in years:\n",
    "    current_raw_data = pd.read_csv('data/rm'+str(year)+'.csv',sep=',',encoding='latin')\n",
    "    raw_data[year] = current_raw_data\n",
    "    people[year] = current_raw_data.sort_values(['Inspire link'])['Inspire link'].unique()\n",
    "    paper_series_series[year] = pd.read_pickle(f'data/paper_series_2_{year}')"
   ]
  },
  {
   "cell_type": "markdown",
   "metadata": {},
   "source": [
    "This function creates all features from the downloaded InspireHEP data"
   ]
  },
  {
   "cell_type": "code",
   "execution_count": 417,
   "metadata": {},
   "outputs": [],
   "source": [
    "def get_affiliations(person, author_lists):\n",
    "    \"\"\"Get list of unique affiliations for person from list of (author lists of papers)\"\"\"\n",
    "    affiliations = []\n",
    "    for author_list in author_lists:\n",
    "        author_frame = pd.DataFrame(author_list)\n",
    "        try:\n",
    "            affiliation = author_frame[author_frame['full_name'].str.contains(person.split('.')[-2])]['affiliation'].values[0]\n",
    "        except:\n",
    "            continue\n",
    "        \n",
    "        \n",
    "        if type(affiliation)==str:\n",
    "            affiliations.append(affiliation.lower().replace('(main)','').strip())\n",
    "\n",
    "        \n",
    "        elif type(affiliation) == list:\n",
    "            if len(affiliation)>0:\n",
    "                for aff in affiliation: \n",
    "                    affiliations.append(aff.lower().replace('(main)','').strip())\n",
    "        else:\n",
    "            print('Warning! Affiliation problem with', person)\n",
    "    return list(set(affiliations))"
   ]
  },
  {
   "cell_type": "code",
   "execution_count": 229,
   "metadata": {},
   "outputs": [],
   "source": [
    "def get_citation_counts(recid_list, year):\n",
    "    citation_counts = []\n",
    "    for recid in recid_list:\n",
    "        citation_counts.append(db_access.get_citations(recid, f'{year}-01-01'))\n",
    "    return citation_counts"
   ]
  },
  {
   "cell_type": "code",
   "execution_count": 208,
   "metadata": {},
   "outputs": [],
   "source": [
    "def make_author_lists(paper_series, year):\n",
    "    return [paper['authors'] for paper in paper_series if pd.to_datetime(paper['creation_date']) < pd.to_datetime(f'{year}-01-01')]"
   ]
  },
  {
   "cell_type": "code",
   "execution_count": 346,
   "metadata": {},
   "outputs": [],
   "source": [
    "def analyze(person, paper_series, year):\n",
    "    \"\"\"Create all relevant feature for a single individual. \n",
    "    Take as input INSPIRE ID, Pandas series containing papers of author and year of application.\n",
    "    Return a dictionary with all features\"\"\"\n",
    "    return_dict = {}\n",
    "    \n",
    "    paper_frame = pd.DataFrame(paper_series,columns=['recid','creation_date','number_of_authors'])#Put single-valued fields in a data frame\n",
    "    paper_frame['creation_date'] = pd.to_datetime(paper_frame['creation_date'])\n",
    "    paper_frame = paper_frame[paper_frame['creation_date'] < pd.to_datetime(f'{year}-01-01')]\n",
    "    \n",
    "    paper_dates = paper_frame['creation_date'].values\n",
    "    #Can probably drop\n",
    "    \n",
    "    author_lists = make_author_lists(paper_series, year)\n",
    "    \n",
    "    # Affiliation features:\n",
    "    return_dict['affiliations'] = get_affiliations(person, author_lists)\n",
    "    return_dict['affiliations_total'] = len(return_dict['affiliations'])          \n",
    "    return_dict['collaboration'] = paper_frame['number_of_authors'].max()>15\n",
    "\n",
    "    #Features concerning number of papers\n",
    "    #This data does not need to be date-adjusted, since INSPIRE calls were already limited to the correct date\n",
    "    return_dict['papers_total'] = len(paper_frame)\n",
    "    return_dict['papers_last_year'] = len(paper_frame[pd.to_datetime(paper_frame['creation_date']) > pd.to_datetime(f'01/01/{year-1}')])\n",
    "    return_dict['papers_three_years'] = len(paper_frame[pd.to_datetime(paper_frame['creation_date']) > pd.to_datetime(f'01/01/{year-3}')])\n",
    "\n",
    "    #Features concerning citations\n",
    "    citation_counts = get_citation_counts(paper_frame['recid'], year)\n",
    "    return_dict['citations_total'] = sum(citation_counts)\n",
    "    if len(citation_counts)>0:\n",
    "        return_dict['citations_median'] = np.median(citation_counts)\n",
    "        return_dict['citations_max'] = np.max(citation_counts)\n",
    "        return_dict['citations_per_paper'] = np.mean(citation_counts)\n",
    "    else:        \n",
    "        return_dict['citations_median'] = np.nan\n",
    "        return_dict['citations_max'] = np.nan\n",
    "        return_dict['citations_per_paper'] = np.nan\n",
    "        \n",
    "    #Number of offers\n",
    "    return_dict['offers'] = len(raw_data[year][raw_data[year]['Inspire link']==person]['Institution'].unique())\n",
    "\n",
    "    \n",
    "    if len(paper_dates)>1:\n",
    "        return_dict['time_since_paper2'] = (pd.to_datetime('01/01/'+str(year))-np.sort(paper_dates)[1]).days/365.\n",
    "        return_dict['time_since_paper1'] = (pd.to_datetime('01/01/'+str(year))-np.sort(paper_dates)[0]).days/365.\n",
    "    else:\n",
    "        return_dict['time_since_paper2'] = 0.\n",
    "        return_dict['time_since_paper1'] = 0.\n",
    "    return return_dict"
   ]
  },
  {
   "cell_type": "code",
   "execution_count": 433,
   "metadata": {},
   "outputs": [
    {
     "data": {
      "text/plain": [
       "<module 'db_access' from '/data1/garnier/rumors/db_access.py'>"
      ]
     },
     "execution_count": 433,
     "metadata": {},
     "output_type": "execute_result"
    }
   ],
   "source": [
    "reload(db_access)   #Run to wake up SQL server"
   ]
  },
  {
   "cell_type": "code",
   "execution_count": 438,
   "metadata": {},
   "outputs": [
    {
     "name": "stdout",
     "output_type": "stream",
     "text": [
      "Warning! Affiliation problem with Chien.Yi.Chen.1\n",
      "Warning! Affiliation problem with D.R.Mayerson.1\n",
      "Halfway through year  2018\n",
      "Warning! Affiliation problem with O.Macias.1\n",
      "Warning! Affiliation problem with R.Ruiz.1\n",
      "Warning! Affiliation problem with Zhen.Liu.1\n",
      "Time to run year:  284.7549293767661\n",
      "Warning! Affiliation problem with C.Verhaaren.1\n",
      "Warning! Affiliation problem with Ciaran.Hughes.1\n",
      "Warning! Affiliation problem with D.Redigolo.1\n",
      "Warning! Affiliation problem with Da.Liu.1\n",
      "Warning! Affiliation problem with Elina.Fuchs.1\n",
      "Warning! Affiliation problem with J.Baglio.1\n",
      "Warning! Affiliation problem with Jeong.Han.Kim.1\n",
      "Warning! Affiliation problem with Jonas.Wittbrodt.1\n",
      "Halfway through year  2019\n",
      "Warning! Affiliation problem with M.J.Schlaffer.1\n",
      "Warning! Affiliation problem with S.Brass.1\n",
      "Time to run year:  316.2691257279366\n",
      "Warning! Affiliation problem with A.Joglekar.1\n",
      "Warning! Affiliation problem with G.Durieux.1\n",
      "Warning! Affiliation problem with G.R.Penington.1\n",
      "Halfway through year  2020\n",
      "Warning! Affiliation problem with J.Stout.1\n",
      "Warning! Affiliation problem with Zhe.Wei.Yin.1\n",
      "Warning! Affiliation problem with Zhe.Wei.Yin.1\n",
      "Time to run year:  332.54461570456624\n"
     ]
    }
   ],
   "source": [
    "#analyzed_data = {}\n",
    "for year in [2018,2019,2020]:\n",
    "    t= time.perf_counter()\n",
    "  \n",
    "    year_list = []\n",
    "    error_list = []\n",
    "    for i,person in enumerate(people[year]):\n",
    "        try:\n",
    "            year_list.append(analyze(person, paper_series_series[year][person], year))\n",
    "        except:\n",
    "            print(\"There was an error with \",person,\", they were not added to the data\")\n",
    "            error_list.append(person)\n",
    "        \n",
    "        if i == len(people[year])//2: print(\"Halfway through year \", year)\n",
    "        \n",
    "    analyzed_data[year] = pd.DataFrame(year_list, [person for person in people[year] if person not in error_list]) \n",
    "    print('Time to run year: ', time.perf_counter()-t)\n",
    "   # if input(f'Number of entries with a NAN: {len(analyzed_data[year])-len(analyzed_data[year].dropna())}. Drop? y/n >')=='y':\n",
    "    #    analyzed_data[year] = analyzed_data[year].dropna()"
   ]
  },
  {
   "cell_type": "code",
   "execution_count": null,
   "metadata": {},
   "outputs": [],
   "source": [
    "for year in years:\n",
    "    analyzed_data[year].to_pickle('data/analyzed_data_'+str(year))"
   ]
  },
  {
   "cell_type": "markdown",
   "metadata": {},
   "source": [
    "# Visualization of available data"
   ]
  },
  {
   "cell_type": "code",
   "execution_count": 458,
   "metadata": {},
   "outputs": [
    {
     "data": {
      "text/plain": [
       "Index(['affiliations', 'affiliations_total', 'collaboration', 'papers_total',\n",
       "       'papers_last_year', 'papers_three_years', 'citations_total',\n",
       "       'citations_median', 'citations_max', 'citations_per_paper', 'offers',\n",
       "       'time_since_paper2', 'time_since_paper1'],\n",
       "      dtype='object')"
      ]
     },
     "execution_count": 458,
     "metadata": {},
     "output_type": "execute_result"
    }
   ],
   "source": [
    "analyzed_data[2020].columns"
   ]
  },
  {
   "cell_type": "code",
   "execution_count": 478,
   "metadata": {
    "scrolled": true
   },
   "outputs": [
    {
     "data": {
      "text/plain": [
       "<matplotlib.legend.Legend at 0x7f6ddf76e6d0>"
      ]
     },
     "execution_count": 478,
     "metadata": {},
     "output_type": "execute_result"
    },
    {
     "data": {
      "image/png": "[encoded data removed]",
      "text/plain": [
       "<Figure size 432x288 with 1 Axes>"
      ]
     },
     "metadata": {
      "needs_background": "light"
     },
     "output_type": "display_data"
    }
   ],
   "source": [
    "for year in years:\n",
    "    analyzed_data[year]['papers_last_year'].hist(density=True, label=year, alpha=0.25, bins=-0.1+np.arange(10))\n",
    "plt.legend()"
   ]
  },
  {
   "cell_type": "markdown",
   "metadata": {},
   "source": [
    "## Role of collaboration ?"
   ]
  },
  {
   "cell_type": "code",
   "execution_count": 1506,
   "metadata": {},
   "outputs": [
    {
     "data": {
      "text/plain": [
       "0.21235521235521235"
      ]
     },
     "execution_count": 1506,
     "metadata": {},
     "output_type": "execute_result"
    }
   ],
   "source": [
    "analyzed_data[2020]['collaboration'].sum()/len(analyzed_data[2020])"
   ]
  },
  {
   "cell_type": "code",
   "execution_count": 1508,
   "metadata": {},
   "outputs": [],
   "source": [
    "def comparison_hist(feature, year):\n",
    "    analyzed_data[year][analyzed_data[year]['collaboration']==True][feature].hist(density=True, color='blue', alpha=0.5, label='Collab.')\n",
    "    analyzed_data[year][analyzed_data[year]['collaboration']==False][feature].hist(alpha=0.5, density=True, color='red', label='No collab')\n",
    "    plt.axvline(analyzed_data[year][analyzed_data[year]['collaboration']==True][feature].median(), color='blue',lw=2)\n",
    "    plt.axvline(analyzed_data[year][analyzed_data[year]['collaboration']==False][feature].median(), color='red',lw=2)\n",
    "    plt.legend()"
   ]
  },
  {
   "cell_type": "code",
   "execution_count": 1510,
   "metadata": {},
   "outputs": [
    {
     "data": {
      "image/png": "[encoded data removed]",
      "text/plain": [
       "<Figure size 432x288 with 1 Axes>"
      ]
     },
     "metadata": {
      "needs_background": "light"
     },
     "output_type": "display_data"
    }
   ],
   "source": [
    "comparison_hist('offers', 2020)\n",
    "plt.title('Number of offers');"
   ]
  },
  {
   "cell_type": "code",
   "execution_count": null,
   "metadata": {},
   "outputs": [],
   "source": []
  }
 ],
 "metadata": {
  "kernelspec": {
   "display_name": "Python 3",
   "language": "python",
   "name": "python3"
  },
  "language_info": {
   "codemirror_mode": {
    "name": "ipython",
    "version": 3
   },
   "file_extension": ".py",
   "mimetype": "text/x-python",
   "name": "python",
   "nbconvert_exporter": "python",
   "pygments_lexer": "ipython3",
   "version": "3.7.7"
  }
 },
 "nbformat": 4,
 "nbformat_minor": 2
}
