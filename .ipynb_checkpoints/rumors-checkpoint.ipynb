{
 "cells": [
  {
   "cell_type": "code",
   "execution_count": 2344,
   "metadata": {},
   "outputs": [],
   "source": [
    "import numpy as np\n",
    "import pandas as pd\n",
    "import matplotlib.pyplot as plt\n",
    "import git, os, requests, json, pickle, time\n",
    "import db_access\n",
    "import xgboost as xgb\n",
    "from sklearn.preprocessing import StandardScaler, RobustScaler, FunctionTransformer\n",
    "from sklearn import metrics\n",
    "from sklearn.svm import SVC, SVR\n",
    "from sklearn.naive_bayes import GaussianNB\n",
    "from sklearn.ensemble import AdaBoostClassifier\n",
    "from sklearn.decomposition import PCA\n",
    "from sklearn.cluster import k_means\n",
    "from sklearn.pipeline import Pipeline, make_pipeline\n",
    "from sklearn.model_selection import train_test_split, cross_val_score, GridSearchCV\n",
    "from sklearn.feature_selection import SelectKBest\n",
    "from sklearn.metrics import f1_score\n",
    "from importlib import reload"
   ]
  },
  {
   "cell_type": "markdown",
   "metadata": {},
   "source": [
    "# Loading INSPIRE and Rumor mill data, creation of basic features"
   ]
  },
  {
   "cell_type": "code",
   "execution_count": 1334,
   "metadata": {},
   "outputs": [],
   "source": [
    "years = [2017, 2018, 2019, 2020]\n",
    "raw_data = {}\n",
    "people = {}\n",
    "for year in years:\n",
    "    current_raw_data = pd.read_csv('rumors/data/rm'+str(year)+'.csv',sep=',',encoding='latin')\n",
    "    raw_data[year] = current_raw_data\n",
    "    people[year] = current_raw_data.sort_values(['Inspire link'])['Inspire link'].unique()"
   ]
  },
  {
   "cell_type": "markdown",
   "metadata": {},
   "source": [
    "Dictionary to map special status (eg \"Fancy fellowship, Offered/Accepted/Declined\") into \"Offered/Accepted/Declined, Special\""
   ]
  },
  {
   "cell_type": "code",
   "execution_count": 1337,
   "metadata": {},
   "outputs": [],
   "source": [
    "status_dict = {}\n",
    "for year in years:\n",
    "    statuses = np.copy(raw_data[year]['Status'].unique())\n",
    "    statuses_clean = []\n",
    "    \n",
    "    for status in statuses:\n",
    "        if status == 'Offered': statuses_clean.append('Offered')\n",
    "        elif status == 'Accepted': statuses_clean.append('Accepted')\n",
    "        elif status == 'Declined': statuses_clean.append('Declined')\n",
    "        elif status.find('Offered')>0: statuses_clean.append('Offered, Special')\n",
    "        elif status.find('Accepted')>0: statuses_clean.append('Accepted, Special')\n",
    "        elif status.find('Declined')>0: statuses_clean.append('Declined, Special') \n",
    "        else: statuses_clean.append('Unreadable')\n",
    "            \n",
    "    status_dict[year]=dict(zip(statuses,statuses_clean))\n",
    "    "
   ]
  },
  {
   "cell_type": "code",
   "execution_count": 1343,
   "metadata": {},
   "outputs": [],
   "source": [
    "number_of_offers = {}\n",
    "data = {}\n",
    "for year in years:\n",
    "    number_of_offers[year] = [len(raw_data[year][raw_data[year]['Inspire link']==person]['Institution'].unique()) for person in people[year]]\n",
    "    data[year] = pd.DataFrame(people[year],columns=['Person'])"
   ]
  },
  {
   "cell_type": "code",
   "execution_count": 62,
   "metadata": {
    "scrolled": true
   },
   "outputs": [
    {
     "name": "stdout",
     "output_type": "stream",
     "text": [
      "2017 514.0181758645922\n",
      "2018 338.96896791271865\n",
      "2019 354.9714118987322\n",
      "2020 202.30416318774223\n"
     ]
    }
   ],
   "source": [
    "inspire_data = {}\n",
    "for year in years:\n",
    "    t0 = time.perf_counter() \n",
    "    inspire_data[year] = []\n",
    "    for person in people[year]:\n",
    "        response = requests.get(f\"http://old.inspirehep.net/search?p=ea:{person}+&rg=75&of=recjson&ot=recid,creation_date,number_of_authors,authors\")\n",
    "        inspire_data[year].append(json.loads(response.text))\n",
    "    print(year, time.perf_counter()-t0)"
   ]
  },
  {
   "cell_type": "code",
   "execution_count": 65,
   "metadata": {},
   "outputs": [],
   "source": [
    "paper_series = {}\n",
    "for year in years:\n",
    "    paper_series[year] = pd.Series(dict(zip(people[year],inspire_data[year])))"
   ]
  },
  {
   "cell_type": "markdown",
   "metadata": {},
   "source": [
    "Save the Inspire data dictionary in a file. Data takes a long time to download, so avoid re-running."
   ]
  },
  {
   "cell_type": "code",
   "execution_count": 66,
   "metadata": {},
   "outputs": [],
   "source": [
    "for year in years:\n",
    "    paper_series[year].to_pickle('data/paper_series_2_'+str(year))"
   ]
  },
  {
   "cell_type": "markdown",
   "metadata": {},
   "source": [
    "# Loading previously downloaded data, start here"
   ]
  },
  {
   "cell_type": "code",
   "execution_count": 432,
   "metadata": {},
   "outputs": [],
   "source": [
    "years = [2017, 2018, 2019, 2020]\n",
    "raw_data = {}\n",
    "people = {}\n",
    "paper_series_series = {}\n",
    "for year in years:\n",
    "    current_raw_data = pd.read_csv('data/rm'+str(year)+'.csv',sep=',',encoding='latin')\n",
    "    raw_data[year] = current_raw_data\n",
    "    people[year] = current_raw_data.sort_values(['Inspire link'])['Inspire link'].unique()\n",
    "    paper_series_series[year] = pd.read_pickle(f'data/paper_series_2_{year}')"
   ]
  },
  {
   "cell_type": "markdown",
   "metadata": {},
   "source": [
    "This function creates all features from the downloaded InspireHEP data"
   ]
  },
  {
   "cell_type": "code",
   "execution_count": 417,
   "metadata": {},
   "outputs": [],
   "source": [
    "def get_affiliations(person, author_lists):\n",
    "    \"\"\"Get list of unique affiliations for person from list of (author lists of papers)\"\"\"\n",
    "    affiliations = []\n",
    "    for author_list in author_lists:\n",
    "        author_frame = pd.DataFrame(author_list)\n",
    "        try:\n",
    "            affiliation = author_frame[author_frame['full_name'].str.contains(person.split('.')[-2])]['affiliation'].values[0]\n",
    "        except:\n",
    "            continue\n",
    "        \n",
    "        \n",
    "        if type(affiliation)==str:\n",
    "            affiliations.append(affiliation.lower().replace('(main)','').strip())\n",
    "\n",
    "        \n",
    "        elif type(affiliation) == list:\n",
    "            if len(affiliation)>0:\n",
    "                for aff in affiliation: \n",
    "                    affiliations.append(aff.lower().replace('(main)','').strip())\n",
    "        else:\n",
    "            print('Warning! Affiliation problem with', person)\n",
    "    return list(set(affiliations))"
   ]
  },
  {
   "cell_type": "code",
   "execution_count": 229,
   "metadata": {},
   "outputs": [],
   "source": [
    "def get_citation_counts(recid_list, year):\n",
    "    citation_counts = []\n",
    "    for recid in recid_list:\n",
    "        citation_counts.append(db_access.get_citations(recid, f'{year}-01-01'))\n",
    "    return citation_counts"
   ]
  },
  {
   "cell_type": "code",
   "execution_count": 208,
   "metadata": {},
   "outputs": [],
   "source": [
    "def make_author_lists(paper_series, year):\n",
    "    return [paper['authors'] for paper in paper_series if pd.to_datetime(paper['creation_date']) < pd.to_datetime(f'{year}-01-01')]"
   ]
  },
  {
   "cell_type": "code",
   "execution_count": 346,
   "metadata": {},
   "outputs": [],
   "source": [
    "def analyze(person, paper_series, year):\n",
    "    \"\"\"Create all relevant feature for a single individual. \n",
    "    Take as input INSPIRE ID, Pandas series containing papers of author and year of application.\n",
    "    Return a dictionary with all features\"\"\"\n",
    "    return_dict = {}\n",
    "    \n",
    "    paper_frame = pd.DataFrame(paper_series,columns=['recid','creation_date','number_of_authors'])#Put single-valued fields in a data frame\n",
    "    paper_frame['creation_date'] = pd.to_datetime(paper_frame['creation_date'])\n",
    "    paper_frame = paper_frame[paper_frame['creation_date'] < pd.to_datetime(f'{year}-01-01')]\n",
    "    \n",
    "    paper_dates = paper_frame['creation_date'].values\n",
    "    #Can probably drop\n",
    "    \n",
    "    author_lists = make_author_lists(paper_series, year)\n",
    "    \n",
    "    # Affiliation features:\n",
    "    return_dict['affiliations'] = get_affiliations(person, author_lists)\n",
    "    return_dict['affiliations_total'] = len(return_dict['affiliations'])          \n",
    "    return_dict['collaboration'] = paper_frame['number_of_authors'].max()>15\n",
    "\n",
    "    #Features concerning number of papers\n",
    "    #This data does not need to be date-adjusted, since INSPIRE calls were already limited to the correct date\n",
    "    return_dict['papers_total'] = len(paper_frame)\n",
    "    return_dict['papers_last_year'] = len(paper_frame[pd.to_datetime(paper_frame['creation_date']) > pd.to_datetime(f'01/01/{year-1}')])\n",
    "    return_dict['papers_three_years'] = len(paper_frame[pd.to_datetime(paper_frame['creation_date']) > pd.to_datetime(f'01/01/{year-3}')])\n",
    "\n",
    "    #Features concerning citations\n",
    "    citation_counts = get_citation_counts(paper_frame['recid'], year)\n",
    "    return_dict['citations_total'] = sum(citation_counts)\n",
    "    if len(citation_counts)>0:\n",
    "        return_dict['citations_median'] = np.median(citation_counts)\n",
    "        return_dict['citations_max'] = np.max(citation_counts)\n",
    "        return_dict['citations_per_paper'] = np.mean(citation_counts)\n",
    "    else:        \n",
    "        return_dict['citations_median'] = np.nan\n",
    "        return_dict['citations_max'] = np.nan\n",
    "        return_dict['citations_per_paper'] = np.nan\n",
    "        \n",
    "    #Number of offers\n",
    "    return_dict['offers'] = len(raw_data[year][raw_data[year]['Inspire link']==person]['Institution'].unique())\n",
    "\n",
    "    \n",
    "    if len(paper_dates)>1:\n",
    "        return_dict['time_since_paper2'] = (pd.to_datetime('01/01/'+str(year))-np.sort(paper_dates)[1]).days/365.\n",
    "        return_dict['time_since_paper1'] = (pd.to_datetime('01/01/'+str(year))-np.sort(paper_dates)[0]).days/365.\n",
    "    else:\n",
    "        return_dict['time_since_paper2'] = 0.\n",
    "        return_dict['time_since_paper1'] = 0.\n",
    "    return return_dict"
   ]
  },
  {
   "cell_type": "code",
   "execution_count": 433,
   "metadata": {},
   "outputs": [
    {
     "data": {
      "text/plain": [
       "<module 'db_access' from '/data1/garnier/rumors/db_access.py'>"
      ]
     },
     "execution_count": 433,
     "metadata": {},
     "output_type": "execute_result"
    }
   ],
   "source": [
    "reload(db_access)   #Run to wake up SQL server"
   ]
  },
  {
   "cell_type": "code",
   "execution_count": 438,
   "metadata": {},
   "outputs": [
    {
     "name": "stdout",
     "output_type": "stream",
     "text": [
      "Warning! Affiliation problem with Chien.Yi.Chen.1\n",
      "Warning! Affiliation problem with D.R.Mayerson.1\n",
      "Halfway through year  2018\n",
      "Warning! Affiliation problem with O.Macias.1\n",
      "Warning! Affiliation problem with R.Ruiz.1\n",
      "Warning! Affiliation problem with Zhen.Liu.1\n",
      "Time to run year:  284.7549293767661\n",
      "Warning! Affiliation problem with C.Verhaaren.1\n",
      "Warning! Affiliation problem with Ciaran.Hughes.1\n",
      "Warning! Affiliation problem with D.Redigolo.1\n",
      "Warning! Affiliation problem with Da.Liu.1\n",
      "Warning! Affiliation problem with Elina.Fuchs.1\n",
      "Warning! Affiliation problem with J.Baglio.1\n",
      "Warning! Affiliation problem with Jeong.Han.Kim.1\n",
      "Warning! Affiliation problem with Jonas.Wittbrodt.1\n",
      "Halfway through year  2019\n",
      "Warning! Affiliation problem with M.J.Schlaffer.1\n",
      "Warning! Affiliation problem with S.Brass.1\n",
      "Time to run year:  316.2691257279366\n",
      "Warning! Affiliation problem with A.Joglekar.1\n",
      "Warning! Affiliation problem with G.Durieux.1\n",
      "Warning! Affiliation problem with G.R.Penington.1\n",
      "Halfway through year  2020\n",
      "Warning! Affiliation problem with J.Stout.1\n",
      "Warning! Affiliation problem with Zhe.Wei.Yin.1\n",
      "Warning! Affiliation problem with Zhe.Wei.Yin.1\n",
      "Time to run year:  332.54461570456624\n"
     ]
    }
   ],
   "source": [
    "#analyzed_data = {}\n",
    "for year in [2018,2019,2020]:\n",
    "    t= time.perf_counter()\n",
    "  \n",
    "    year_list = []\n",
    "    error_list = []\n",
    "    for i,person in enumerate(people[year]):\n",
    "        try:\n",
    "            year_list.append(analyze(person, paper_series_series[year][person], year))\n",
    "        except:\n",
    "            print(\"There was an error with \",person,\", they were not added to the data\")\n",
    "            error_list.append(person)\n",
    "        \n",
    "        if i == len(people[year])//2: print(\"Halfway through year \", year)\n",
    "        \n",
    "    analyzed_data[year] = pd.DataFrame(year_list, [person for person in people[year] if person not in error_list]) \n",
    "    print('Time to run year: ', time.perf_counter()-t)\n",
    "   # if input(f'Number of entries with a NAN: {len(analyzed_data[year])-len(analyzed_data[year].dropna())}. Drop? y/n >')=='y':\n",
    "    #    analyzed_data[year] = analyzed_data[year].dropna()"
   ]
  },
  {
   "cell_type": "code",
   "execution_count": null,
   "metadata": {},
   "outputs": [],
   "source": [
    "for year in years:\n",
    "    analyzed_data[year].to_pickle('data/analyzed_data_'+str(year))"
   ]
  },
  {
   "cell_type": "markdown",
   "metadata": {},
   "source": [
    "# Results to predict"
   ]
  },
  {
   "cell_type": "code",
   "execution_count": null,
   "metadata": {},
   "outputs": [],
   "source": [
    "raw_time_data = {}\n",
    "for year in years:\n",
    "    raw_time_data[year] = raw_data[year]\n",
    "    raw_time_data[year]['Timestamp'] = pd.to_datetime(raw_time_data[year]['Timestamp'])"
   ]
  },
  {
   "cell_type": "code",
   "execution_count": 915,
   "metadata": {},
   "outputs": [],
   "source": [
    "def get_offer_details(person, year):\n",
    "    \"\"\"Access raw_time_data for person (defined by Inspire link), year to return \n",
    "    time of first post, number of offers, and whether first offer was round 1 or not.\n",
    "    \"\"\"\n",
    "    return_dict = {}\n",
    "    offer_frame = raw_time_data[year][raw_time_data[year]['Inspire link']==person][['Institution', 'Status', 'Timestamp']]\n",
    "    \n",
    "    return_dict['number_of_offers'] = len(offer_frame.groupby('Institution'))\n",
    "    \n",
    "    earliest_offer = offer_frame.loc[offer_frame['Timestamp'].idxmin()]\n",
    "    return_dict['first_post_time'] = earliest_offer['Timestamp']\n",
    "    if earliest_offer['Timestamp'] < pd.to_datetime(f'{year}/01/07'):\n",
    "        return_dict['round1'] = 1\n",
    "    elif earliest_offer['Timestamp'] >= pd.to_datetime(f'{year}/01/09'):\n",
    "        return_dict['round1'] = 0\n",
    "    else:\n",
    "        if (earliest_offer['Status'].lower()).find('offer')>-1:\n",
    "            return_dict['round1'] = 0\n",
    "        else:\n",
    "            return_dict['round1'] = 1\n",
    "            \n",
    "    \n",
    "    return return_dict"
   ]
  },
  {
   "cell_type": "code",
   "execution_count": 927,
   "metadata": {},
   "outputs": [],
   "source": [
    "offer_data = {}"
   ]
  },
  {
   "cell_type": "code",
   "execution_count": 928,
   "metadata": {},
   "outputs": [],
   "source": [
    "for year in years:\n",
    "    offer_data[year] = []\n",
    "    for person in people[year]:\n",
    "        offer_data[year].append(get_offer_details(person, year))"
   ]
  },
  {
   "cell_type": "code",
   "execution_count": 2720,
   "metadata": {},
   "outputs": [],
   "source": [
    "for year in years:\n",
    "    pd.DataFrame(offer_data[year], index = people[year]).to_pickle('data/offer_data_'+str(year))"
   ]
  },
  {
   "cell_type": "markdown",
   "metadata": {},
   "source": [
    "# Current position analysis"
   ]
  },
  {
   "cell_type": "code",
   "execution_count": 2721,
   "metadata": {},
   "outputs": [],
   "source": [
    "Xp = analyzed_data[2020][['time_since_paper2','time_since_paper1','affiliations_total','collaboration']].drop('Y.Zheng.14')\n",
    "Yp = ((pd.read_csv('linkid_full.csv',header=None).set_index([1]).drop([0,3,4],axis=1))[[2]]>0).astype(int).drop('Y.Zheng.14')"
   ]
  },
  {
   "cell_type": "code",
   "execution_count": 2722,
   "metadata": {},
   "outputs": [],
   "source": [
    "Xp_train, Xp_test, Yp_train, Yp_test = train_test_split(Xp, Yp, test_size=0.2, random_state=0)"
   ]
  },
  {
   "cell_type": "markdown",
   "metadata": {},
   "source": [
    "## SVM"
   ]
  },
  {
   "cell_type": "markdown",
   "metadata": {},
   "source": [
    "### RBF"
   ]
  },
  {
   "cell_type": "code",
   "execution_count": 2782,
   "metadata": {},
   "outputs": [],
   "source": [
    "svc_rbf_grid = {'pca__n_components':[2],\n",
    "            'classifier__C':[0.55], \n",
    "            'classifier__gamma':[1]}\n",
    "#rf_grid = {'pca__n_components':[2],'classifier__n_estimators':[200,300,400,500], 'classifier__min_samples_split':[15,20,25,30]}"
   ]
  },
  {
   "cell_type": "code",
   "execution_count": 2783,
   "metadata": {},
   "outputs": [
    {
     "data": {
      "text/plain": [
       "GridSearchCV(estimator=Pipeline(steps=[('scaler', RobustScaler()),\n",
       "                                       ('pca', PCA()), ('classifier', SVC())]),\n",
       "             param_grid={'classifier__C': [0.55], 'classifier__gamma': [1],\n",
       "                         'pca__n_components': [2]})"
      ]
     },
     "execution_count": 2783,
     "metadata": {},
     "output_type": "execute_result"
    }
   ],
   "source": [
    "pipe_svc_rbf = Pipeline([('scaler', RobustScaler()),('pca',PCA()),('classifier',SVC())])\n",
    "clf_svc_rbf  = GridSearchCV(pipe_svc_rbf, param_grid = svc_rbf_grid)\n",
    "clf_svc_rbf.fit(Xp_train, Yp_train[2])"
   ]
  },
  {
   "cell_type": "code",
   "execution_count": 2784,
   "metadata": {},
   "outputs": [
    {
     "data": {
      "text/plain": [
       "array([0.88025552])"
      ]
     },
     "execution_count": 2784,
     "metadata": {},
     "output_type": "execute_result"
    }
   ],
   "source": [
    "-np.sort(-clf_svc_rbf.cv_results_['mean_test_score'])[0:5]"
   ]
  },
  {
   "cell_type": "code",
   "execution_count": 2785,
   "metadata": {},
   "outputs": [
    {
     "data": {
      "text/plain": [
       "0.8942307692307693"
      ]
     },
     "execution_count": 2785,
     "metadata": {},
     "output_type": "execute_result"
    }
   ],
   "source": [
    "clf_svc_rbf.score(Xp_train,Yp_train[2])"
   ]
  },
  {
   "cell_type": "code",
   "execution_count": 2780,
   "metadata": {},
   "outputs": [
    {
     "data": {
      "text/plain": [
       "[<matplotlib.lines.Line2D at 0x7f6dad6e1510>]"
      ]
     },
     "execution_count": 2780,
     "metadata": {},
     "output_type": "execute_result"
    },
    {
     "data": {
      "image/png": "[encoded data removed]",
      "text/plain": [
       "<Figure size 432x288 with 1 Axes>"
      ]
     },
     "metadata": {
      "needs_background": "light"
     },
     "output_type": "display_data"
    }
   ],
   "source": [
    "param = 'param_classifier__gamma'\n",
    "plt.plot(pd.DataFrame(clf_svc_rbf.cv_results_)[[param,'mean_test_score']].groupby(param).max(),'-o')\n",
    "plt.plot(pd.DataFrame(clf_svc_rbf.cv_results_)[[param,'mean_test_score']].groupby(param).mean(),'-o')\n",
    "#plt.xscale('log')"
   ]
  },
  {
   "cell_type": "code",
   "execution_count": 2781,
   "metadata": {},
   "outputs": [
    {
     "data": {
      "text/html": [
       "<div>\n",
       "<style scoped>\n",
       "    .dataframe tbody tr th:only-of-type {\n",
       "        vertical-align: middle;\n",
       "    }\n",
       "\n",
       "    .dataframe tbody tr th {\n",
       "        vertical-align: top;\n",
       "    }\n",
       "\n",
       "    .dataframe thead th {\n",
       "        text-align: right;\n",
       "    }\n",
       "</style>\n",
       "<table border=\"1\" class=\"dataframe\">\n",
       "  <thead>\n",
       "    <tr style=\"text-align: right;\">\n",
       "      <th></th>\n",
       "      <th>mean_fit_time</th>\n",
       "      <th>std_fit_time</th>\n",
       "      <th>mean_score_time</th>\n",
       "      <th>std_score_time</th>\n",
       "      <th>param_classifier__C</th>\n",
       "      <th>param_classifier__gamma</th>\n",
       "      <th>param_pca__n_components</th>\n",
       "      <th>params</th>\n",
       "      <th>split0_test_score</th>\n",
       "      <th>split1_test_score</th>\n",
       "      <th>split2_test_score</th>\n",
       "      <th>split3_test_score</th>\n",
       "      <th>split4_test_score</th>\n",
       "      <th>mean_test_score</th>\n",
       "      <th>std_test_score</th>\n",
       "      <th>rank_test_score</th>\n",
       "    </tr>\n",
       "  </thead>\n",
       "  <tbody>\n",
       "    <tr>\n",
       "      <th>0</th>\n",
       "      <td>0.005674</td>\n",
       "      <td>0.000901</td>\n",
       "      <td>0.00183</td>\n",
       "      <td>0.000252</td>\n",
       "      <td>0.55</td>\n",
       "      <td>1</td>\n",
       "      <td>2</td>\n",
       "      <td>{'classifier__C': 0.55, 'classifier__gamma': 1...</td>\n",
       "      <td>0.785714</td>\n",
       "      <td>0.785714</td>\n",
       "      <td>0.97619</td>\n",
       "      <td>0.926829</td>\n",
       "      <td>0.926829</td>\n",
       "      <td>0.880256</td>\n",
       "      <td>0.079269</td>\n",
       "      <td>1</td>\n",
       "    </tr>\n",
       "  </tbody>\n",
       "</table>\n",
       "</div>"
      ],
      "text/plain": [
       "   mean_fit_time  std_fit_time  mean_score_time  std_score_time  \\\n",
       "0       0.005674      0.000901          0.00183        0.000252   \n",
       "\n",
       "  param_classifier__C param_classifier__gamma param_pca__n_components  \\\n",
       "0                0.55                       1                       2   \n",
       "\n",
       "                                              params  split0_test_score  \\\n",
       "0  {'classifier__C': 0.55, 'classifier__gamma': 1...           0.785714   \n",
       "\n",
       "   split1_test_score  split2_test_score  split3_test_score  split4_test_score  \\\n",
       "0           0.785714            0.97619           0.926829           0.926829   \n",
       "\n",
       "   mean_test_score  std_test_score  rank_test_score  \n",
       "0         0.880256        0.079269                1  "
      ]
     },
     "execution_count": 2781,
     "metadata": {},
     "output_type": "execute_result"
    }
   ],
   "source": [
    "pd.DataFrame(clf_svc_rbf.cv_results_)"
   ]
  },
  {
   "cell_type": "markdown",
   "metadata": {},
   "source": [
    "### Poly"
   ]
  },
  {
   "cell_type": "code",
   "execution_count": 2826,
   "metadata": {},
   "outputs": [],
   "source": [
    "svc_poly_grid = {'pca__n_components':[3],\n",
    "            'classifier__C':[5], \n",
    "            'classifier__gamma':[0.5],\n",
    "            'classifier__degree':[3]    \n",
    "                }"
   ]
  },
  {
   "cell_type": "code",
   "execution_count": 2827,
   "metadata": {},
   "outputs": [
    {
     "data": {
      "text/plain": [
       "GridSearchCV(estimator=Pipeline(steps=[('scaler', RobustScaler()),\n",
       "                                       ('pca', PCA()),\n",
       "                                       ('classifier', SVC(kernel='poly'))]),\n",
       "             param_grid={'classifier__C': [5], 'classifier__degree': [3],\n",
       "                         'classifier__gamma': [0.5], 'pca__n_components': [3]})"
      ]
     },
     "execution_count": 2827,
     "metadata": {},
     "output_type": "execute_result"
    }
   ],
   "source": [
    "pipe_svc_poly = Pipeline([('scaler', RobustScaler()),('pca',PCA()),('classifier',SVC(kernel='poly'))])\n",
    "clf_svc_poly  = GridSearchCV(pipe_svc_poly, param_grid = svc_poly_grid)\n",
    "clf_svc_poly.fit(Xp_train, Yp_train[2])"
   ]
  },
  {
   "cell_type": "code",
   "execution_count": 2828,
   "metadata": {},
   "outputs": [
    {
     "data": {
      "text/plain": [
       "array([0.89454123])"
      ]
     },
     "execution_count": 2828,
     "metadata": {},
     "output_type": "execute_result"
    }
   ],
   "source": [
    "-np.sort(-clf_svc_poly.cv_results_['mean_test_score'])[0:5]"
   ]
  },
  {
   "cell_type": "code",
   "execution_count": 2825,
   "metadata": {},
   "outputs": [
    {
     "data": {
      "text/plain": [
       "[<matplotlib.lines.Line2D at 0x7f6daff68e90>]"
      ]
     },
     "execution_count": 2825,
     "metadata": {},
     "output_type": "execute_result"
    },
    {
     "data": {
      "image/png": "[encoded data removed]",
      "text/plain": [
       "<Figure size 432x288 with 1 Axes>"
      ]
     },
     "metadata": {
      "needs_background": "light"
     },
     "output_type": "display_data"
    }
   ],
   "source": [
    "param = 'param_classifier__gamma'\n",
    "plt.plot(pd.DataFrame(clf_svc_poly.cv_results_)[[param,'mean_test_score']].groupby(param).max(),'-o')\n",
    "plt.plot(pd.DataFrame(clf_svc_poly.cv_results_)[[param,'mean_test_score']].groupby(param).mean(),'-o')\n",
    "#plt.xscale('log')"
   ]
  },
  {
   "cell_type": "code",
   "execution_count": 2829,
   "metadata": {},
   "outputs": [
    {
     "data": {
      "text/html": [
       "<div>\n",
       "<style scoped>\n",
       "    .dataframe tbody tr th:only-of-type {\n",
       "        vertical-align: middle;\n",
       "    }\n",
       "\n",
       "    .dataframe tbody tr th {\n",
       "        vertical-align: top;\n",
       "    }\n",
       "\n",
       "    .dataframe thead th {\n",
       "        text-align: right;\n",
       "    }\n",
       "</style>\n",
       "<table border=\"1\" class=\"dataframe\">\n",
       "  <thead>\n",
       "    <tr style=\"text-align: right;\">\n",
       "      <th></th>\n",
       "      <th>mean_fit_time</th>\n",
       "      <th>std_fit_time</th>\n",
       "      <th>mean_score_time</th>\n",
       "      <th>std_score_time</th>\n",
       "      <th>param_classifier__C</th>\n",
       "      <th>param_classifier__degree</th>\n",
       "      <th>param_classifier__gamma</th>\n",
       "      <th>param_pca__n_components</th>\n",
       "      <th>params</th>\n",
       "      <th>split0_test_score</th>\n",
       "      <th>split1_test_score</th>\n",
       "      <th>split2_test_score</th>\n",
       "      <th>split3_test_score</th>\n",
       "      <th>split4_test_score</th>\n",
       "      <th>mean_test_score</th>\n",
       "      <th>std_test_score</th>\n",
       "      <th>rank_test_score</th>\n",
       "    </tr>\n",
       "  </thead>\n",
       "  <tbody>\n",
       "    <tr>\n",
       "      <th>0</th>\n",
       "      <td>0.006198</td>\n",
       "      <td>0.001188</td>\n",
       "      <td>0.002004</td>\n",
       "      <td>0.000383</td>\n",
       "      <td>5</td>\n",
       "      <td>3</td>\n",
       "      <td>0.5</td>\n",
       "      <td>3</td>\n",
       "      <td>{'classifier__C': 5, 'classifier__degree': 3, ...</td>\n",
       "      <td>0.833333</td>\n",
       "      <td>0.833333</td>\n",
       "      <td>0.952381</td>\n",
       "      <td>0.95122</td>\n",
       "      <td>0.902439</td>\n",
       "      <td>0.894541</td>\n",
       "      <td>0.053128</td>\n",
       "      <td>1</td>\n",
       "    </tr>\n",
       "  </tbody>\n",
       "</table>\n",
       "</div>"
      ],
      "text/plain": [
       "   mean_fit_time  std_fit_time  mean_score_time  std_score_time  \\\n",
       "0       0.006198      0.001188         0.002004        0.000383   \n",
       "\n",
       "  param_classifier__C param_classifier__degree param_classifier__gamma  \\\n",
       "0                   5                        3                     0.5   \n",
       "\n",
       "  param_pca__n_components                                             params  \\\n",
       "0                       3  {'classifier__C': 5, 'classifier__degree': 3, ...   \n",
       "\n",
       "   split0_test_score  split1_test_score  split2_test_score  split3_test_score  \\\n",
       "0           0.833333           0.833333           0.952381            0.95122   \n",
       "\n",
       "   split4_test_score  mean_test_score  std_test_score  rank_test_score  \n",
       "0           0.902439         0.894541        0.053128                1  "
      ]
     },
     "execution_count": 2829,
     "metadata": {},
     "output_type": "execute_result"
    }
   ],
   "source": [
    "pd.DataFrame(clf_svc_poly.cv_results_).sort_values('mean_test_score',ascending=False)"
   ]
  },
  {
   "cell_type": "markdown",
   "metadata": {},
   "source": [
    "## XGB"
   ]
  },
  {
   "cell_type": "code",
   "execution_count": 2896,
   "metadata": {},
   "outputs": [],
   "source": [
    "xgb_grid = {'pca__n_components':[3],\n",
    "            'classifier__eta':[0.05],\n",
    "           'classifier__gamma':[0.02],\n",
    "           'classifier__max_depth':[2],\n",
    "           'classifier__lambda':[0.75]}"
   ]
  },
  {
   "cell_type": "code",
   "execution_count": 2897,
   "metadata": {},
   "outputs": [
    {
     "data": {
      "text/plain": [
       "GridSearchCV(estimator=Pipeline(steps=[('scaler', RobustScaler()),\n",
       "                                       ('pca', PCA()),\n",
       "                                       ('classifier',\n",
       "                                        XGBClassifier(base_score=None,\n",
       "                                                      booster=None,\n",
       "                                                      colsample_bylevel=None,\n",
       "                                                      colsample_bynode=None,\n",
       "                                                      colsample_bytree=None,\n",
       "                                                      gamma=None, gpu_id=None,\n",
       "                                                      importance_type='gain',\n",
       "                                                      interaction_constraints=None,\n",
       "                                                      learning_rate=None,\n",
       "                                                      max_delta_step=None,\n",
       "                                                      max_depth=None,\n",
       "                                                      min_child_weight=N...\n",
       "                                                      monotone_constraints=None,\n",
       "                                                      n_estimators=100,\n",
       "                                                      n_jobs=None,\n",
       "                                                      num_parallel_tree=None,\n",
       "                                                      random_state=None,\n",
       "                                                      reg_alpha=None,\n",
       "                                                      reg_lambda=None,\n",
       "                                                      scale_pos_weight=None,\n",
       "                                                      subsample=None,\n",
       "                                                      tree_method=None,\n",
       "                                                      validate_parameters=None,\n",
       "                                                      verbosity=None))]),\n",
       "             param_grid={'classifier__eta': [0.05], 'classifier__gamma': [0.02],\n",
       "                         'classifier__lambda': [0.75],\n",
       "                         'classifier__max_depth': [2],\n",
       "                         'pca__n_components': [3]})"
      ]
     },
     "execution_count": 2897,
     "metadata": {},
     "output_type": "execute_result"
    }
   ],
   "source": [
    "pipe_xgb = Pipeline([('scaler', RobustScaler()),('pca',PCA()),('classifier',xgb.sklearn.XGBClassifier())])\n",
    "clf_xgb  = GridSearchCV(pipe_xgb, param_grid = xgb_grid)\n",
    "clf_xgb.fit(Xp_train, Yp_train[2])"
   ]
  },
  {
   "cell_type": "code",
   "execution_count": 2940,
   "metadata": {},
   "outputs": [
    {
     "data": {
      "text/plain": [
       "array([0.86550523])"
      ]
     },
     "execution_count": 2940,
     "metadata": {},
     "output_type": "execute_result"
    }
   ],
   "source": [
    "-np.sort(-clf_xgb.cv_results_['mean_test_score'])[0:5]"
   ]
  },
  {
   "cell_type": "code",
   "execution_count": 2900,
   "metadata": {},
   "outputs": [
    {
     "data": {
      "image/png": "[encoded data removed]",
      "text/plain": [
       "<Figure size 432x288 with 1 Axes>"
      ]
     },
     "metadata": {
      "needs_background": "light"
     },
     "output_type": "display_data"
    }
   ],
   "source": [
    "param = 'param_classifier__gamma'\n",
    "plt.plot(pd.DataFrame(clf_xgb.cv_results_)[[param,'mean_test_score']].groupby(param).max(),'-o')\n",
    "plt.plot(pd.DataFrame(clf_xgb.cv_results_)[[param,'mean_test_score']].groupby(param).mean(),'-o')\n",
    "plt.xscale('log')"
   ]
  },
  {
   "cell_type": "code",
   "execution_count": 2901,
   "metadata": {},
   "outputs": [
    {
     "data": {
      "text/html": [
       "<div>\n",
       "<style scoped>\n",
       "    .dataframe tbody tr th:only-of-type {\n",
       "        vertical-align: middle;\n",
       "    }\n",
       "\n",
       "    .dataframe tbody tr th {\n",
       "        vertical-align: top;\n",
       "    }\n",
       "\n",
       "    .dataframe thead th {\n",
       "        text-align: right;\n",
       "    }\n",
       "</style>\n",
       "<table border=\"1\" class=\"dataframe\">\n",
       "  <thead>\n",
       "    <tr style=\"text-align: right;\">\n",
       "      <th></th>\n",
       "      <th>mean_fit_time</th>\n",
       "      <th>std_fit_time</th>\n",
       "      <th>mean_score_time</th>\n",
       "      <th>std_score_time</th>\n",
       "      <th>param_classifier__eta</th>\n",
       "      <th>param_classifier__gamma</th>\n",
       "      <th>param_classifier__lambda</th>\n",
       "      <th>param_classifier__max_depth</th>\n",
       "      <th>param_pca__n_components</th>\n",
       "      <th>params</th>\n",
       "      <th>split0_test_score</th>\n",
       "      <th>split1_test_score</th>\n",
       "      <th>split2_test_score</th>\n",
       "      <th>split3_test_score</th>\n",
       "      <th>split4_test_score</th>\n",
       "      <th>mean_test_score</th>\n",
       "      <th>std_test_score</th>\n",
       "      <th>rank_test_score</th>\n",
       "    </tr>\n",
       "  </thead>\n",
       "  <tbody>\n",
       "    <tr>\n",
       "      <th>0</th>\n",
       "      <td>0.013262</td>\n",
       "      <td>0.000821</td>\n",
       "      <td>0.00267</td>\n",
       "      <td>0.000042</td>\n",
       "      <td>0.05</td>\n",
       "      <td>0.02</td>\n",
       "      <td>0.75</td>\n",
       "      <td>2</td>\n",
       "      <td>3</td>\n",
       "      <td>{'classifier__eta': 0.05, 'classifier__gamma':...</td>\n",
       "      <td>0.809524</td>\n",
       "      <td>0.809524</td>\n",
       "      <td>0.952381</td>\n",
       "      <td>0.902439</td>\n",
       "      <td>0.853659</td>\n",
       "      <td>0.865505</td>\n",
       "      <td>0.055353</td>\n",
       "      <td>1</td>\n",
       "    </tr>\n",
       "  </tbody>\n",
       "</table>\n",
       "</div>"
      ],
      "text/plain": [
       "   mean_fit_time  std_fit_time  mean_score_time  std_score_time  \\\n",
       "0       0.013262      0.000821          0.00267        0.000042   \n",
       "\n",
       "  param_classifier__eta param_classifier__gamma param_classifier__lambda  \\\n",
       "0                  0.05                    0.02                     0.75   \n",
       "\n",
       "  param_classifier__max_depth param_pca__n_components  \\\n",
       "0                           2                       3   \n",
       "\n",
       "                                              params  split0_test_score  \\\n",
       "0  {'classifier__eta': 0.05, 'classifier__gamma':...           0.809524   \n",
       "\n",
       "   split1_test_score  split2_test_score  split3_test_score  split4_test_score  \\\n",
       "0           0.809524           0.952381           0.902439           0.853659   \n",
       "\n",
       "   mean_test_score  std_test_score  rank_test_score  \n",
       "0         0.865505        0.055353                1  "
      ]
     },
     "execution_count": 2901,
     "metadata": {},
     "output_type": "execute_result"
    }
   ],
   "source": [
    "pd.DataFrame(clf_xgb.cv_results_).sort_values('mean_test_score',ascending=False)"
   ]
  },
  {
   "cell_type": "markdown",
   "metadata": {},
   "source": [
    "## Random Forest"
   ]
  },
  {
   "cell_type": "code",
   "execution_count": 2947,
   "metadata": {},
   "outputs": [],
   "source": [
    "rf_grid = {'pca__n_components':[3],\n",
    "           'classifier__min_samples_split':[23],\n",
    "           'classifier__n_estimators':[225]}"
   ]
  },
  {
   "cell_type": "code",
   "execution_count": 2948,
   "metadata": {},
   "outputs": [
    {
     "data": {
      "text/plain": [
       "GridSearchCV(estimator=Pipeline(steps=[('scaler', RobustScaler()),\n",
       "                                       ('pca', PCA()),\n",
       "                                       ('classifier',\n",
       "                                        RandomForestClassifier())]),\n",
       "             param_grid={'classifier__min_samples_split': [23],\n",
       "                         'classifier__n_estimators': [225],\n",
       "                         'pca__n_components': [3]})"
      ]
     },
     "execution_count": 2948,
     "metadata": {},
     "output_type": "execute_result"
    }
   ],
   "source": [
    "pipe_rf = Pipeline([('scaler', RobustScaler()),('pca',PCA()),('classifier',RandomForestClassifier())])\n",
    "clf_rf  = GridSearchCV(pipe_rf, param_grid = rf_grid)\n",
    "clf_rf.fit(Xp_train, Yp_train[2])"
   ]
  },
  {
   "cell_type": "code",
   "execution_count": 2949,
   "metadata": {},
   "outputs": [
    {
     "data": {
      "text/plain": [
       "array([0.87049942])"
      ]
     },
     "execution_count": 2949,
     "metadata": {},
     "output_type": "execute_result"
    }
   ],
   "source": [
    "-np.sort(-clf_rf.cv_results_['mean_test_score'])[0:5]"
   ]
  },
  {
   "cell_type": "code",
   "execution_count": 2950,
   "metadata": {},
   "outputs": [
    {
     "data": {
      "text/plain": [
       "[<matplotlib.lines.Line2D at 0x7f6dae85e610>]"
      ]
     },
     "execution_count": 2950,
     "metadata": {},
     "output_type": "execute_result"
    },
    {
     "data": {
      "image/png": "[encoded data removed]",
      "text/plain": [
       "<Figure size 432x288 with 1 Axes>"
      ]
     },
     "metadata": {
      "needs_background": "light"
     },
     "output_type": "display_data"
    }
   ],
   "source": [
    "param = 'param_classifier__min_samples_split'\n",
    "plt.plot(pd.DataFrame(clf_rf.cv_results_)[[param,'mean_test_score']].groupby(param).max(),'-o')\n",
    "plt.plot(pd.DataFrame(clf_rf.cv_results_)[[param,'mean_test_score']].groupby(param).mean(),'-o')\n",
    "#plt.xscale('log')"
   ]
  },
  {
   "cell_type": "code",
   "execution_count": 2951,
   "metadata": {},
   "outputs": [
    {
     "data": {
      "text/html": [
       "<div>\n",
       "<style scoped>\n",
       "    .dataframe tbody tr th:only-of-type {\n",
       "        vertical-align: middle;\n",
       "    }\n",
       "\n",
       "    .dataframe tbody tr th {\n",
       "        vertical-align: top;\n",
       "    }\n",
       "\n",
       "    .dataframe thead th {\n",
       "        text-align: right;\n",
       "    }\n",
       "</style>\n",
       "<table border=\"1\" class=\"dataframe\">\n",
       "  <thead>\n",
       "    <tr style=\"text-align: right;\">\n",
       "      <th></th>\n",
       "      <th>mean_fit_time</th>\n",
       "      <th>std_fit_time</th>\n",
       "      <th>mean_score_time</th>\n",
       "      <th>std_score_time</th>\n",
       "      <th>param_classifier__min_samples_split</th>\n",
       "      <th>param_classifier__n_estimators</th>\n",
       "      <th>param_pca__n_components</th>\n",
       "      <th>params</th>\n",
       "      <th>split0_test_score</th>\n",
       "      <th>split1_test_score</th>\n",
       "      <th>split2_test_score</th>\n",
       "      <th>split3_test_score</th>\n",
       "      <th>split4_test_score</th>\n",
       "      <th>mean_test_score</th>\n",
       "      <th>std_test_score</th>\n",
       "      <th>rank_test_score</th>\n",
       "    </tr>\n",
       "  </thead>\n",
       "  <tbody>\n",
       "    <tr>\n",
       "      <th>0</th>\n",
       "      <td>0.223579</td>\n",
       "      <td>0.002604</td>\n",
       "      <td>0.016426</td>\n",
       "      <td>0.000076</td>\n",
       "      <td>23</td>\n",
       "      <td>225</td>\n",
       "      <td>3</td>\n",
       "      <td>{'classifier__min_samples_split': 23, 'classif...</td>\n",
       "      <td>0.785714</td>\n",
       "      <td>0.809524</td>\n",
       "      <td>0.952381</td>\n",
       "      <td>0.902439</td>\n",
       "      <td>0.902439</td>\n",
       "      <td>0.870499</td>\n",
       "      <td>0.062692</td>\n",
       "      <td>1</td>\n",
       "    </tr>\n",
       "  </tbody>\n",
       "</table>\n",
       "</div>"
      ],
      "text/plain": [
       "   mean_fit_time  std_fit_time  mean_score_time  std_score_time  \\\n",
       "0       0.223579      0.002604         0.016426        0.000076   \n",
       "\n",
       "  param_classifier__min_samples_split param_classifier__n_estimators  \\\n",
       "0                                  23                            225   \n",
       "\n",
       "  param_pca__n_components                                             params  \\\n",
       "0                       3  {'classifier__min_samples_split': 23, 'classif...   \n",
       "\n",
       "   split0_test_score  split1_test_score  split2_test_score  split3_test_score  \\\n",
       "0           0.785714           0.809524           0.952381           0.902439   \n",
       "\n",
       "   split4_test_score  mean_test_score  std_test_score  rank_test_score  \n",
       "0           0.902439         0.870499        0.062692                1  "
      ]
     },
     "execution_count": 2951,
     "metadata": {},
     "output_type": "execute_result"
    }
   ],
   "source": [
    "pd.DataFrame(clf_rf.cv_results_).sort_values('mean_test_score',ascending=False)"
   ]
  },
  {
   "cell_type": "code",
   "execution_count": 2952,
   "metadata": {},
   "outputs": [
    {
     "name": "stdout",
     "output_type": "stream",
     "text": [
      "0.9086538461538461\n",
      "0.8942307692307693\n",
      "0.8990384615384616\n",
      "0.8942307692307693\n"
     ]
    }
   ],
   "source": [
    "print(clf_xgb.score(Xp_train,Yp_train[2]))\n",
    "print(clf_rf.score(Xp_train,Yp_train[2]))\n",
    "print(clf_svc_poly.score(Xp_train,Yp_train[2]))\n",
    "print(clf_svc_rbf.score(Xp_train,Yp_train[2]))"
   ]
  },
  {
   "cell_type": "code",
   "execution_count": 2953,
   "metadata": {},
   "outputs": [
    {
     "name": "stdout",
     "output_type": "stream",
     "text": [
      "0.9056603773584906\n",
      "0.8490566037735849\n",
      "0.7735849056603774\n",
      "0.8679245283018868\n"
     ]
    }
   ],
   "source": [
    "print(clf_xgb.score(Xp_test,Yp_test[2]))\n",
    "print(clf_rf.score(Xp_test,Yp_test[2]))\n",
    "print(clf_svc_poly.score(Xp_test,Yp_test[2]))\n",
    "print(clf_svc_rbf.score(Xp_test,Yp_test[2]))"
   ]
  },
  {
   "cell_type": "markdown",
   "metadata": {},
   "source": [
    "## Saving predicted position"
   ]
  },
  {
   "cell_type": "code",
   "execution_count": 2954,
   "metadata": {},
   "outputs": [],
   "source": [
    "for year in years:\n",
    "    pd.DataFrame(clf_rf.predict(analyzed_data[year][['time_since_paper2','time_since_paper1','affiliations_total','collaboration']]), columns =  ['postdoc'],index=people[year]).to_pickle('data/postdoc_status_'+str(year))"
   ]
  }
 ],
 "metadata": {
  "kernelspec": {
   "display_name": "Python 3",
   "language": "python",
   "name": "python3"
  },
  "language_info": {
   "codemirror_mode": {
    "name": "ipython",
    "version": 3
   },
   "file_extension": ".py",
   "mimetype": "text/x-python",
   "name": "python",
   "nbconvert_exporter": "python",
   "pygments_lexer": "ipython3",
   "version": "3.7.7"
  }
 },
 "nbformat": 4,
 "nbformat_minor": 2
}
